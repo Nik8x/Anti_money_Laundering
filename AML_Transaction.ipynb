{
 "cells": [
  {
   "cell_type": "markdown",
   "metadata": {
    "colab_type": "text",
    "id": "yvybI48vrzdJ"
   },
   "source": [
    "![](https://web.archive.org/web/20161019192412im_/http://lisp.vse.cz/pkdd99/data.gif)"
   ]
  },
  {
   "cell_type": "markdown",
   "metadata": {
    "colab_type": "text",
    "id": "HasTSihgrzdN"
   },
   "source": [
    "[Guide to the Financial Data Set](https://web.archive.org/web/20161019192412/http://lisp.vse.cz/pkdd99/berka.htm)\n",
    "    \n",
    "[1999 Czech Financial Dataset - Real Anonymized Transactions](https://data.world/lpetrocelli/czech-financial-dataset-real-anonymized-transactions)"
   ]
  },
  {
   "cell_type": "code",
   "execution_count": 1,
   "metadata": {
    "colab": {},
    "colab_type": "code",
    "id": "s8zkuP1xrzdP"
   },
   "outputs": [],
   "source": [
    "import pandas as pd\n",
    "import numpy as np\n",
    "import glob\n",
    "import time\n",
    "\n",
    "import regex as re\n",
    "\n",
    "import warnings\n",
    "warnings.filterwarnings('ignore')\n",
    "\n",
    "import statsmodels.api as sm\n",
    "import scipy.stats as scs\n",
    "from statsmodels.stats.outliers_influence import variance_inflation_factor\n",
    "\n",
    "import matplotlib.pyplot as plt\n",
    "%matplotlib inline\n",
    "import seaborn as sns\n",
    "\n",
    "from pandas.plotting import scatter_matrix\n",
    "\n",
    "from sklearn.linear_model import LogisticRegression\n",
    "from sklearn.metrics import confusion_matrix, roc_auc_score, roc_curve, accuracy_score, classification_report\n",
    "from sklearn.model_selection import train_test_split\n",
    "from sklearn.preprocessing import StandardScaler\n",
    "\n",
    "from sklearn.metrics import roc_auc_score, roc_curve, auc\n",
    "from sklearn.utils import resample\n",
    "\n",
    "from sklearn.decomposition import PCA\n",
    "from sklearn.cluster import KMeans\n",
    "\n",
    "from sklearn.linear_model import LogisticRegression\n",
    "from sklearn.neighbors import KNeighborsClassifier\n",
    "from sklearn.svm import SVC\n",
    "from sklearn.naive_bayes import GaussianNB\n",
    "from sklearn.tree import DecisionTreeClassifier\n",
    "from sklearn.ensemble import RandomForestClassifier, GradientBoostingClassifier  #GBM algorithm\n",
    "from xgboost import XGBClassifier\n",
    "\n",
    "import statsmodels.api as sm"
   ]
  },
  {
   "cell_type": "code",
   "execution_count": 2,
   "metadata": {
    "colab": {},
    "colab_type": "code",
    "id": "V3jYvG-orzdU"
   },
   "outputs": [
    {
     "data": {
      "text/plain": [
       "['account.csv',\n",
       " 'card.csv',\n",
       " 'client.csv',\n",
       " 'disp.csv',\n",
       " 'district.csv',\n",
       " 'loan.csv',\n",
       " 'order.csv',\n",
       " 'trans.csv']"
      ]
     },
     "execution_count": 2,
     "metadata": {},
     "output_type": "execute_result"
    }
   ],
   "source": [
    "files = sorted(glob.glob('*.csv')) # look at all csv's in the directory\n",
    "files"
   ]
  },
  {
   "cell_type": "code",
   "execution_count": 3,
   "metadata": {
    "colab": {},
    "colab_type": "code",
    "id": "OS_2QzUcrzdY",
    "outputId": "90194c5b-16c5-459d-dc98-fb5e6a9dc039",
    "scrolled": false
   },
   "outputs": [
    {
     "name": "stdout",
     "output_type": "stream",
     "text": [
      "The dataframes created from csv's are:\n",
      "\n",
      "Shape of ** account ** dataframe is:  (4500, 4)\n",
      "Shape of ** card ** dataframe is:  (892, 4)\n",
      "Shape of ** client ** dataframe is:  (5369, 3)\n",
      "Shape of ** disp ** dataframe is:  (5369, 4)\n",
      "Shape of ** district ** dataframe is:  (77, 16)\n",
      "Shape of ** loan ** dataframe is:  (682, 7)\n",
      "Shape of ** order ** dataframe is:  (6471, 6)\n",
      "Shape of ** trans ** dataframe is:  (1056320, 10)\n"
     ]
    }
   ],
   "source": [
    "# create a dataframe using csv's in above list files\n",
    "print(\"The dataframes created from csv's are:\\n\")\n",
    "for f in files:\n",
    "    vars()[f.split('.')[0]] = pd.read_csv(f, delimiter = ';')\n",
    "    print(\"Shape of **\", f.split('.')[0], \"** dataframe is: \", vars()[f.split('.')[0]].shape)"
   ]
  },
  {
   "cell_type": "code",
   "execution_count": 4,
   "metadata": {
    "colab": {},
    "colab_type": "code",
    "id": "hoddgpgMrzdg",
    "outputId": "a54b8d75-33e3-4cc5-a8e8-88ec65e89c29"
   },
   "outputs": [
    {
     "data": {
      "text/html": [
       "<div>\n",
       "<style scoped>\n",
       "    .dataframe tbody tr th:only-of-type {\n",
       "        vertical-align: middle;\n",
       "    }\n",
       "\n",
       "    .dataframe tbody tr th {\n",
       "        vertical-align: top;\n",
       "    }\n",
       "\n",
       "    .dataframe thead th {\n",
       "        text-align: right;\n",
       "    }\n",
       "</style>\n",
       "<table border=\"1\" class=\"dataframe\">\n",
       "  <thead>\n",
       "    <tr style=\"text-align: right;\">\n",
       "      <th></th>\n",
       "      <th>account_id</th>\n",
       "      <th>district_id</th>\n",
       "      <th>frequency</th>\n",
       "      <th>date</th>\n",
       "    </tr>\n",
       "  </thead>\n",
       "  <tbody>\n",
       "    <tr>\n",
       "      <th>0</th>\n",
       "      <td>576</td>\n",
       "      <td>55</td>\n",
       "      <td>POPLATEK MESICNE</td>\n",
       "      <td>930101</td>\n",
       "    </tr>\n",
       "    <tr>\n",
       "      <th>1</th>\n",
       "      <td>3818</td>\n",
       "      <td>74</td>\n",
       "      <td>POPLATEK MESICNE</td>\n",
       "      <td>930101</td>\n",
       "    </tr>\n",
       "    <tr>\n",
       "      <th>2</th>\n",
       "      <td>704</td>\n",
       "      <td>55</td>\n",
       "      <td>POPLATEK MESICNE</td>\n",
       "      <td>930101</td>\n",
       "    </tr>\n",
       "    <tr>\n",
       "      <th>3</th>\n",
       "      <td>2378</td>\n",
       "      <td>16</td>\n",
       "      <td>POPLATEK MESICNE</td>\n",
       "      <td>930101</td>\n",
       "    </tr>\n",
       "    <tr>\n",
       "      <th>4</th>\n",
       "      <td>2632</td>\n",
       "      <td>24</td>\n",
       "      <td>POPLATEK MESICNE</td>\n",
       "      <td>930102</td>\n",
       "    </tr>\n",
       "  </tbody>\n",
       "</table>\n",
       "</div>"
      ],
      "text/plain": [
       "   account_id  district_id         frequency    date\n",
       "0         576           55  POPLATEK MESICNE  930101\n",
       "1        3818           74  POPLATEK MESICNE  930101\n",
       "2         704           55  POPLATEK MESICNE  930101\n",
       "3        2378           16  POPLATEK MESICNE  930101\n",
       "4        2632           24  POPLATEK MESICNE  930102"
      ]
     },
     "execution_count": 4,
     "metadata": {},
     "output_type": "execute_result"
    }
   ],
   "source": [
    "account.head()"
   ]
  },
  {
   "cell_type": "code",
   "execution_count": 5,
   "metadata": {
    "colab": {},
    "colab_type": "code",
    "id": "XLEi-kYirzdk"
   },
   "outputs": [
    {
     "data": {
      "text/html": [
       "<div>\n",
       "<style scoped>\n",
       "    .dataframe tbody tr th:only-of-type {\n",
       "        vertical-align: middle;\n",
       "    }\n",
       "\n",
       "    .dataframe tbody tr th {\n",
       "        vertical-align: top;\n",
       "    }\n",
       "\n",
       "    .dataframe thead th {\n",
       "        text-align: right;\n",
       "    }\n",
       "</style>\n",
       "<table border=\"1\" class=\"dataframe\">\n",
       "  <thead>\n",
       "    <tr style=\"text-align: right;\">\n",
       "      <th></th>\n",
       "      <th>card_id</th>\n",
       "      <th>disp_id</th>\n",
       "      <th>type</th>\n",
       "      <th>issued</th>\n",
       "    </tr>\n",
       "  </thead>\n",
       "  <tbody>\n",
       "    <tr>\n",
       "      <th>0</th>\n",
       "      <td>1005</td>\n",
       "      <td>9285</td>\n",
       "      <td>classic</td>\n",
       "      <td>931107 00:00:00</td>\n",
       "    </tr>\n",
       "    <tr>\n",
       "      <th>1</th>\n",
       "      <td>104</td>\n",
       "      <td>588</td>\n",
       "      <td>classic</td>\n",
       "      <td>940119 00:00:00</td>\n",
       "    </tr>\n",
       "    <tr>\n",
       "      <th>2</th>\n",
       "      <td>747</td>\n",
       "      <td>4915</td>\n",
       "      <td>classic</td>\n",
       "      <td>940205 00:00:00</td>\n",
       "    </tr>\n",
       "    <tr>\n",
       "      <th>3</th>\n",
       "      <td>70</td>\n",
       "      <td>439</td>\n",
       "      <td>classic</td>\n",
       "      <td>940208 00:00:00</td>\n",
       "    </tr>\n",
       "    <tr>\n",
       "      <th>4</th>\n",
       "      <td>577</td>\n",
       "      <td>3687</td>\n",
       "      <td>classic</td>\n",
       "      <td>940215 00:00:00</td>\n",
       "    </tr>\n",
       "  </tbody>\n",
       "</table>\n",
       "</div>"
      ],
      "text/plain": [
       "   card_id  disp_id     type           issued\n",
       "0     1005     9285  classic  931107 00:00:00\n",
       "1      104      588  classic  940119 00:00:00\n",
       "2      747     4915  classic  940205 00:00:00\n",
       "3       70      439  classic  940208 00:00:00\n",
       "4      577     3687  classic  940215 00:00:00"
      ]
     },
     "execution_count": 5,
     "metadata": {},
     "output_type": "execute_result"
    }
   ],
   "source": [
    "card.head()"
   ]
  },
  {
   "cell_type": "code",
   "execution_count": 6,
   "metadata": {
    "colab": {},
    "colab_type": "code",
    "id": "QJ1iGOoPrzdn"
   },
   "outputs": [
    {
     "data": {
      "text/html": [
       "<div>\n",
       "<style scoped>\n",
       "    .dataframe tbody tr th:only-of-type {\n",
       "        vertical-align: middle;\n",
       "    }\n",
       "\n",
       "    .dataframe tbody tr th {\n",
       "        vertical-align: top;\n",
       "    }\n",
       "\n",
       "    .dataframe thead th {\n",
       "        text-align: right;\n",
       "    }\n",
       "</style>\n",
       "<table border=\"1\" class=\"dataframe\">\n",
       "  <thead>\n",
       "    <tr style=\"text-align: right;\">\n",
       "      <th></th>\n",
       "      <th>client_id</th>\n",
       "      <th>birth_number</th>\n",
       "      <th>district_id</th>\n",
       "    </tr>\n",
       "  </thead>\n",
       "  <tbody>\n",
       "    <tr>\n",
       "      <th>0</th>\n",
       "      <td>1</td>\n",
       "      <td>706213</td>\n",
       "      <td>18</td>\n",
       "    </tr>\n",
       "    <tr>\n",
       "      <th>1</th>\n",
       "      <td>2</td>\n",
       "      <td>450204</td>\n",
       "      <td>1</td>\n",
       "    </tr>\n",
       "    <tr>\n",
       "      <th>2</th>\n",
       "      <td>3</td>\n",
       "      <td>406009</td>\n",
       "      <td>1</td>\n",
       "    </tr>\n",
       "    <tr>\n",
       "      <th>3</th>\n",
       "      <td>4</td>\n",
       "      <td>561201</td>\n",
       "      <td>5</td>\n",
       "    </tr>\n",
       "    <tr>\n",
       "      <th>4</th>\n",
       "      <td>5</td>\n",
       "      <td>605703</td>\n",
       "      <td>5</td>\n",
       "    </tr>\n",
       "  </tbody>\n",
       "</table>\n",
       "</div>"
      ],
      "text/plain": [
       "   client_id  birth_number  district_id\n",
       "0          1        706213           18\n",
       "1          2        450204            1\n",
       "2          3        406009            1\n",
       "3          4        561201            5\n",
       "4          5        605703            5"
      ]
     },
     "execution_count": 6,
     "metadata": {},
     "output_type": "execute_result"
    }
   ],
   "source": [
    "client.head()"
   ]
  },
  {
   "cell_type": "code",
   "execution_count": 7,
   "metadata": {
    "colab": {},
    "colab_type": "code",
    "id": "ImeKkEBMrzdq",
    "outputId": "f5a52f68-abb1-4bd5-d029-a8feef5dc4b7"
   },
   "outputs": [
    {
     "data": {
      "text/html": [
       "<div>\n",
       "<style scoped>\n",
       "    .dataframe tbody tr th:only-of-type {\n",
       "        vertical-align: middle;\n",
       "    }\n",
       "\n",
       "    .dataframe tbody tr th {\n",
       "        vertical-align: top;\n",
       "    }\n",
       "\n",
       "    .dataframe thead th {\n",
       "        text-align: right;\n",
       "    }\n",
       "</style>\n",
       "<table border=\"1\" class=\"dataframe\">\n",
       "  <thead>\n",
       "    <tr style=\"text-align: right;\">\n",
       "      <th></th>\n",
       "      <th>disp_id</th>\n",
       "      <th>client_id</th>\n",
       "      <th>account_id</th>\n",
       "      <th>type</th>\n",
       "    </tr>\n",
       "  </thead>\n",
       "  <tbody>\n",
       "    <tr>\n",
       "      <th>0</th>\n",
       "      <td>1</td>\n",
       "      <td>1</td>\n",
       "      <td>1</td>\n",
       "      <td>OWNER</td>\n",
       "    </tr>\n",
       "    <tr>\n",
       "      <th>1</th>\n",
       "      <td>2</td>\n",
       "      <td>2</td>\n",
       "      <td>2</td>\n",
       "      <td>OWNER</td>\n",
       "    </tr>\n",
       "    <tr>\n",
       "      <th>2</th>\n",
       "      <td>3</td>\n",
       "      <td>3</td>\n",
       "      <td>2</td>\n",
       "      <td>DISPONENT</td>\n",
       "    </tr>\n",
       "    <tr>\n",
       "      <th>3</th>\n",
       "      <td>4</td>\n",
       "      <td>4</td>\n",
       "      <td>3</td>\n",
       "      <td>OWNER</td>\n",
       "    </tr>\n",
       "    <tr>\n",
       "      <th>4</th>\n",
       "      <td>5</td>\n",
       "      <td>5</td>\n",
       "      <td>3</td>\n",
       "      <td>DISPONENT</td>\n",
       "    </tr>\n",
       "  </tbody>\n",
       "</table>\n",
       "</div>"
      ],
      "text/plain": [
       "   disp_id  client_id  account_id       type\n",
       "0        1          1           1      OWNER\n",
       "1        2          2           2      OWNER\n",
       "2        3          3           2  DISPONENT\n",
       "3        4          4           3      OWNER\n",
       "4        5          5           3  DISPONENT"
      ]
     },
     "execution_count": 7,
     "metadata": {},
     "output_type": "execute_result"
    }
   ],
   "source": [
    "disp.head()"
   ]
  },
  {
   "cell_type": "code",
   "execution_count": 8,
   "metadata": {
    "colab": {},
    "colab_type": "code",
    "id": "gjzaK0Qzrzds"
   },
   "outputs": [
    {
     "data": {
      "text/html": [
       "<div>\n",
       "<style scoped>\n",
       "    .dataframe tbody tr th:only-of-type {\n",
       "        vertical-align: middle;\n",
       "    }\n",
       "\n",
       "    .dataframe tbody tr th {\n",
       "        vertical-align: top;\n",
       "    }\n",
       "\n",
       "    .dataframe thead th {\n",
       "        text-align: right;\n",
       "    }\n",
       "</style>\n",
       "<table border=\"1\" class=\"dataframe\">\n",
       "  <thead>\n",
       "    <tr style=\"text-align: right;\">\n",
       "      <th></th>\n",
       "      <th>district code</th>\n",
       "      <th>district name</th>\n",
       "      <th>region</th>\n",
       "      <th>no. of inhabitants</th>\n",
       "      <th>no. of municipalities with inhabitants &lt; 499</th>\n",
       "      <th>no. of municipalities with inhabitants 500-1999</th>\n",
       "      <th>no. of municipalities with inhabitants 2000-9999</th>\n",
       "      <th>no. of municipalities with inhabitants &gt;10000</th>\n",
       "      <th>no. of cities</th>\n",
       "      <th>ratio of urban inhabitants</th>\n",
       "      <th>average salary</th>\n",
       "      <th>unemploymant rate 95</th>\n",
       "      <th>unemploymant rate 96</th>\n",
       "      <th>no. of enterpreneurs per 1000 inhabitants</th>\n",
       "      <th>no. of commited crimes 95</th>\n",
       "      <th>no. of commited crimes 96</th>\n",
       "    </tr>\n",
       "  </thead>\n",
       "  <tbody>\n",
       "    <tr>\n",
       "      <th>0</th>\n",
       "      <td>1</td>\n",
       "      <td>Hl.m. Praha</td>\n",
       "      <td>Prague</td>\n",
       "      <td>1204953</td>\n",
       "      <td>0</td>\n",
       "      <td>0</td>\n",
       "      <td>0</td>\n",
       "      <td>1</td>\n",
       "      <td>1</td>\n",
       "      <td>100.0</td>\n",
       "      <td>12541</td>\n",
       "      <td>0.29</td>\n",
       "      <td>0.43</td>\n",
       "      <td>167</td>\n",
       "      <td>85677</td>\n",
       "      <td>99107</td>\n",
       "    </tr>\n",
       "    <tr>\n",
       "      <th>1</th>\n",
       "      <td>2</td>\n",
       "      <td>Benesov</td>\n",
       "      <td>central Bohemia</td>\n",
       "      <td>88884</td>\n",
       "      <td>80</td>\n",
       "      <td>26</td>\n",
       "      <td>6</td>\n",
       "      <td>2</td>\n",
       "      <td>5</td>\n",
       "      <td>46.7</td>\n",
       "      <td>8507</td>\n",
       "      <td>1.67</td>\n",
       "      <td>1.85</td>\n",
       "      <td>132</td>\n",
       "      <td>2159</td>\n",
       "      <td>2674</td>\n",
       "    </tr>\n",
       "    <tr>\n",
       "      <th>2</th>\n",
       "      <td>3</td>\n",
       "      <td>Beroun</td>\n",
       "      <td>central Bohemia</td>\n",
       "      <td>75232</td>\n",
       "      <td>55</td>\n",
       "      <td>26</td>\n",
       "      <td>4</td>\n",
       "      <td>1</td>\n",
       "      <td>5</td>\n",
       "      <td>41.7</td>\n",
       "      <td>8980</td>\n",
       "      <td>1.95</td>\n",
       "      <td>2.21</td>\n",
       "      <td>111</td>\n",
       "      <td>2824</td>\n",
       "      <td>2813</td>\n",
       "    </tr>\n",
       "    <tr>\n",
       "      <th>3</th>\n",
       "      <td>4</td>\n",
       "      <td>Kladno</td>\n",
       "      <td>central Bohemia</td>\n",
       "      <td>149893</td>\n",
       "      <td>63</td>\n",
       "      <td>29</td>\n",
       "      <td>6</td>\n",
       "      <td>2</td>\n",
       "      <td>6</td>\n",
       "      <td>67.4</td>\n",
       "      <td>9753</td>\n",
       "      <td>4.64</td>\n",
       "      <td>5.05</td>\n",
       "      <td>109</td>\n",
       "      <td>5244</td>\n",
       "      <td>5892</td>\n",
       "    </tr>\n",
       "    <tr>\n",
       "      <th>4</th>\n",
       "      <td>5</td>\n",
       "      <td>Kolin</td>\n",
       "      <td>central Bohemia</td>\n",
       "      <td>95616</td>\n",
       "      <td>65</td>\n",
       "      <td>30</td>\n",
       "      <td>4</td>\n",
       "      <td>1</td>\n",
       "      <td>6</td>\n",
       "      <td>51.4</td>\n",
       "      <td>9307</td>\n",
       "      <td>3.85</td>\n",
       "      <td>4.43</td>\n",
       "      <td>118</td>\n",
       "      <td>2616</td>\n",
       "      <td>3040</td>\n",
       "    </tr>\n",
       "  </tbody>\n",
       "</table>\n",
       "</div>"
      ],
      "text/plain": [
       "   district code district name           region  no. of inhabitants  \\\n",
       "0              1   Hl.m. Praha           Prague             1204953   \n",
       "1              2       Benesov  central Bohemia               88884   \n",
       "2              3        Beroun  central Bohemia               75232   \n",
       "3              4        Kladno  central Bohemia              149893   \n",
       "4              5         Kolin  central Bohemia               95616   \n",
       "\n",
       "   no. of municipalities with inhabitants < 499  \\\n",
       "0                                             0   \n",
       "1                                            80   \n",
       "2                                            55   \n",
       "3                                            63   \n",
       "4                                            65   \n",
       "\n",
       "   no. of municipalities with inhabitants 500-1999  \\\n",
       "0                                                0   \n",
       "1                                               26   \n",
       "2                                               26   \n",
       "3                                               29   \n",
       "4                                               30   \n",
       "\n",
       "   no. of municipalities with inhabitants 2000-9999  \\\n",
       "0                                                 0   \n",
       "1                                                 6   \n",
       "2                                                 4   \n",
       "3                                                 6   \n",
       "4                                                 4   \n",
       "\n",
       "   no. of municipalities with inhabitants >10000  no. of cities  \\\n",
       "0                                              1              1   \n",
       "1                                              2              5   \n",
       "2                                              1              5   \n",
       "3                                              2              6   \n",
       "4                                              1              6   \n",
       "\n",
       "   ratio of urban inhabitants  average salary unemploymant rate 95  \\\n",
       "0                       100.0           12541                 0.29   \n",
       "1                        46.7            8507                 1.67   \n",
       "2                        41.7            8980                 1.95   \n",
       "3                        67.4            9753                 4.64   \n",
       "4                        51.4            9307                 3.85   \n",
       "\n",
       "   unemploymant rate 96  no. of enterpreneurs per 1000 inhabitants  \\\n",
       "0                  0.43                                        167   \n",
       "1                  1.85                                        132   \n",
       "2                  2.21                                        111   \n",
       "3                  5.05                                        109   \n",
       "4                  4.43                                        118   \n",
       "\n",
       "  no. of commited crimes 95  no. of commited crimes 96  \n",
       "0                     85677                      99107  \n",
       "1                      2159                       2674  \n",
       "2                      2824                       2813  \n",
       "3                      5244                       5892  \n",
       "4                      2616                       3040  "
      ]
     },
     "execution_count": 8,
     "metadata": {},
     "output_type": "execute_result"
    }
   ],
   "source": [
    "# rename the columns for district\n",
    "\n",
    "district.columns = [\"district code\", \"district name\", \"region\", \"no. of inhabitants\", \n",
    "                    \"no. of municipalities with inhabitants < 499\", \n",
    "                    \"no. of municipalities with inhabitants 500-1999\", \n",
    "                    \"no. of municipalities with inhabitants 2000-9999\",\n",
    "                    \"no. of municipalities with inhabitants >10000\", \n",
    "                    \"no. of cities\", \"ratio of urban inhabitants\" , \"average salary\",\n",
    "                    \"unemploymant rate 95\", \"unemploymant rate 96\", \n",
    "                    \"no. of enterpreneurs per 1000 inhabitants\", \"no. of commited crimes 95\",\n",
    "                    \"no. of commited crimes 96\"]\n",
    "\n",
    "district.head()"
   ]
  },
  {
   "cell_type": "code",
   "execution_count": 9,
   "metadata": {
    "colab": {},
    "colab_type": "code",
    "id": "bhfv1p6nrzdu",
    "outputId": "df74e97a-3a71-41fa-b11a-2e025aa3313a",
    "scrolled": true
   },
   "outputs": [],
   "source": [
    "district['district code'] = district['district code'].astype(int)"
   ]
  },
  {
   "cell_type": "code",
   "execution_count": 10,
   "metadata": {
    "colab": {},
    "colab_type": "code",
    "id": "S77Ukcnerzdw"
   },
   "outputs": [
    {
     "data": {
      "text/html": [
       "<div>\n",
       "<style scoped>\n",
       "    .dataframe tbody tr th:only-of-type {\n",
       "        vertical-align: middle;\n",
       "    }\n",
       "\n",
       "    .dataframe tbody tr th {\n",
       "        vertical-align: top;\n",
       "    }\n",
       "\n",
       "    .dataframe thead th {\n",
       "        text-align: right;\n",
       "    }\n",
       "</style>\n",
       "<table border=\"1\" class=\"dataframe\">\n",
       "  <thead>\n",
       "    <tr style=\"text-align: right;\">\n",
       "      <th></th>\n",
       "      <th>loan_id</th>\n",
       "      <th>account_id</th>\n",
       "      <th>date</th>\n",
       "      <th>amount</th>\n",
       "      <th>duration</th>\n",
       "      <th>payments</th>\n",
       "      <th>status</th>\n",
       "    </tr>\n",
       "  </thead>\n",
       "  <tbody>\n",
       "    <tr>\n",
       "      <th>0</th>\n",
       "      <td>5314</td>\n",
       "      <td>1787</td>\n",
       "      <td>930705</td>\n",
       "      <td>96396</td>\n",
       "      <td>12</td>\n",
       "      <td>8033.0</td>\n",
       "      <td>B</td>\n",
       "    </tr>\n",
       "    <tr>\n",
       "      <th>1</th>\n",
       "      <td>5316</td>\n",
       "      <td>1801</td>\n",
       "      <td>930711</td>\n",
       "      <td>165960</td>\n",
       "      <td>36</td>\n",
       "      <td>4610.0</td>\n",
       "      <td>A</td>\n",
       "    </tr>\n",
       "    <tr>\n",
       "      <th>2</th>\n",
       "      <td>6863</td>\n",
       "      <td>9188</td>\n",
       "      <td>930728</td>\n",
       "      <td>127080</td>\n",
       "      <td>60</td>\n",
       "      <td>2118.0</td>\n",
       "      <td>A</td>\n",
       "    </tr>\n",
       "    <tr>\n",
       "      <th>3</th>\n",
       "      <td>5325</td>\n",
       "      <td>1843</td>\n",
       "      <td>930803</td>\n",
       "      <td>105804</td>\n",
       "      <td>36</td>\n",
       "      <td>2939.0</td>\n",
       "      <td>A</td>\n",
       "    </tr>\n",
       "    <tr>\n",
       "      <th>4</th>\n",
       "      <td>7240</td>\n",
       "      <td>11013</td>\n",
       "      <td>930906</td>\n",
       "      <td>274740</td>\n",
       "      <td>60</td>\n",
       "      <td>4579.0</td>\n",
       "      <td>A</td>\n",
       "    </tr>\n",
       "  </tbody>\n",
       "</table>\n",
       "</div>"
      ],
      "text/plain": [
       "   loan_id  account_id    date  amount  duration  payments status\n",
       "0     5314        1787  930705   96396        12    8033.0      B\n",
       "1     5316        1801  930711  165960        36    4610.0      A\n",
       "2     6863        9188  930728  127080        60    2118.0      A\n",
       "3     5325        1843  930803  105804        36    2939.0      A\n",
       "4     7240       11013  930906  274740        60    4579.0      A"
      ]
     },
     "execution_count": 10,
     "metadata": {},
     "output_type": "execute_result"
    }
   ],
   "source": [
    "loan.head()"
   ]
  },
  {
   "cell_type": "code",
   "execution_count": 11,
   "metadata": {
    "colab": {},
    "colab_type": "code",
    "id": "kliJBHXDrzdz",
    "outputId": "a8de92d0-2c2d-4fc4-fe6b-8829cac272ef"
   },
   "outputs": [
    {
     "data": {
      "text/html": [
       "<div>\n",
       "<style scoped>\n",
       "    .dataframe tbody tr th:only-of-type {\n",
       "        vertical-align: middle;\n",
       "    }\n",
       "\n",
       "    .dataframe tbody tr th {\n",
       "        vertical-align: top;\n",
       "    }\n",
       "\n",
       "    .dataframe thead th {\n",
       "        text-align: right;\n",
       "    }\n",
       "</style>\n",
       "<table border=\"1\" class=\"dataframe\">\n",
       "  <thead>\n",
       "    <tr style=\"text-align: right;\">\n",
       "      <th></th>\n",
       "      <th>order_id</th>\n",
       "      <th>account_id</th>\n",
       "      <th>bank_to</th>\n",
       "      <th>account_to</th>\n",
       "      <th>amount</th>\n",
       "      <th>k_symbol</th>\n",
       "    </tr>\n",
       "  </thead>\n",
       "  <tbody>\n",
       "    <tr>\n",
       "      <th>0</th>\n",
       "      <td>29401</td>\n",
       "      <td>1</td>\n",
       "      <td>YZ</td>\n",
       "      <td>87144583</td>\n",
       "      <td>2452.0</td>\n",
       "      <td>SIPO</td>\n",
       "    </tr>\n",
       "    <tr>\n",
       "      <th>1</th>\n",
       "      <td>29402</td>\n",
       "      <td>2</td>\n",
       "      <td>ST</td>\n",
       "      <td>89597016</td>\n",
       "      <td>3372.7</td>\n",
       "      <td>UVER</td>\n",
       "    </tr>\n",
       "    <tr>\n",
       "      <th>2</th>\n",
       "      <td>29403</td>\n",
       "      <td>2</td>\n",
       "      <td>QR</td>\n",
       "      <td>13943797</td>\n",
       "      <td>7266.0</td>\n",
       "      <td>SIPO</td>\n",
       "    </tr>\n",
       "    <tr>\n",
       "      <th>3</th>\n",
       "      <td>29404</td>\n",
       "      <td>3</td>\n",
       "      <td>WX</td>\n",
       "      <td>83084338</td>\n",
       "      <td>1135.0</td>\n",
       "      <td>SIPO</td>\n",
       "    </tr>\n",
       "    <tr>\n",
       "      <th>4</th>\n",
       "      <td>29405</td>\n",
       "      <td>3</td>\n",
       "      <td>CD</td>\n",
       "      <td>24485939</td>\n",
       "      <td>327.0</td>\n",
       "      <td></td>\n",
       "    </tr>\n",
       "  </tbody>\n",
       "</table>\n",
       "</div>"
      ],
      "text/plain": [
       "   order_id  account_id bank_to  account_to  amount k_symbol\n",
       "0     29401           1      YZ    87144583  2452.0     SIPO\n",
       "1     29402           2      ST    89597016  3372.7     UVER\n",
       "2     29403           2      QR    13943797  7266.0     SIPO\n",
       "3     29404           3      WX    83084338  1135.0     SIPO\n",
       "4     29405           3      CD    24485939   327.0         "
      ]
     },
     "execution_count": 11,
     "metadata": {},
     "output_type": "execute_result"
    }
   ],
   "source": [
    "order.head()"
   ]
  },
  {
   "cell_type": "code",
   "execution_count": 12,
   "metadata": {
    "colab": {},
    "colab_type": "code",
    "id": "zHWDFci1rzd2"
   },
   "outputs": [
    {
     "data": {
      "text/html": [
       "<div>\n",
       "<style scoped>\n",
       "    .dataframe tbody tr th:only-of-type {\n",
       "        vertical-align: middle;\n",
       "    }\n",
       "\n",
       "    .dataframe tbody tr th {\n",
       "        vertical-align: top;\n",
       "    }\n",
       "\n",
       "    .dataframe thead th {\n",
       "        text-align: right;\n",
       "    }\n",
       "</style>\n",
       "<table border=\"1\" class=\"dataframe\">\n",
       "  <thead>\n",
       "    <tr style=\"text-align: right;\">\n",
       "      <th></th>\n",
       "      <th>trans_id</th>\n",
       "      <th>account_id</th>\n",
       "      <th>date</th>\n",
       "      <th>type</th>\n",
       "      <th>operation</th>\n",
       "      <th>amount</th>\n",
       "      <th>balance</th>\n",
       "      <th>k_symbol</th>\n",
       "      <th>bank</th>\n",
       "      <th>account</th>\n",
       "    </tr>\n",
       "  </thead>\n",
       "  <tbody>\n",
       "    <tr>\n",
       "      <th>0</th>\n",
       "      <td>695247</td>\n",
       "      <td>2378</td>\n",
       "      <td>930101</td>\n",
       "      <td>PRIJEM</td>\n",
       "      <td>VKLAD</td>\n",
       "      <td>700.0</td>\n",
       "      <td>700.0</td>\n",
       "      <td>NaN</td>\n",
       "      <td>NaN</td>\n",
       "      <td>NaN</td>\n",
       "    </tr>\n",
       "    <tr>\n",
       "      <th>1</th>\n",
       "      <td>171812</td>\n",
       "      <td>576</td>\n",
       "      <td>930101</td>\n",
       "      <td>PRIJEM</td>\n",
       "      <td>VKLAD</td>\n",
       "      <td>900.0</td>\n",
       "      <td>900.0</td>\n",
       "      <td>NaN</td>\n",
       "      <td>NaN</td>\n",
       "      <td>NaN</td>\n",
       "    </tr>\n",
       "    <tr>\n",
       "      <th>2</th>\n",
       "      <td>207264</td>\n",
       "      <td>704</td>\n",
       "      <td>930101</td>\n",
       "      <td>PRIJEM</td>\n",
       "      <td>VKLAD</td>\n",
       "      <td>1000.0</td>\n",
       "      <td>1000.0</td>\n",
       "      <td>NaN</td>\n",
       "      <td>NaN</td>\n",
       "      <td>NaN</td>\n",
       "    </tr>\n",
       "    <tr>\n",
       "      <th>3</th>\n",
       "      <td>1117247</td>\n",
       "      <td>3818</td>\n",
       "      <td>930101</td>\n",
       "      <td>PRIJEM</td>\n",
       "      <td>VKLAD</td>\n",
       "      <td>600.0</td>\n",
       "      <td>600.0</td>\n",
       "      <td>NaN</td>\n",
       "      <td>NaN</td>\n",
       "      <td>NaN</td>\n",
       "    </tr>\n",
       "    <tr>\n",
       "      <th>4</th>\n",
       "      <td>579373</td>\n",
       "      <td>1972</td>\n",
       "      <td>930102</td>\n",
       "      <td>PRIJEM</td>\n",
       "      <td>VKLAD</td>\n",
       "      <td>400.0</td>\n",
       "      <td>400.0</td>\n",
       "      <td>NaN</td>\n",
       "      <td>NaN</td>\n",
       "      <td>NaN</td>\n",
       "    </tr>\n",
       "  </tbody>\n",
       "</table>\n",
       "</div>"
      ],
      "text/plain": [
       "   trans_id  account_id    date    type operation  amount  balance k_symbol  \\\n",
       "0    695247        2378  930101  PRIJEM     VKLAD   700.0    700.0      NaN   \n",
       "1    171812         576  930101  PRIJEM     VKLAD   900.0    900.0      NaN   \n",
       "2    207264         704  930101  PRIJEM     VKLAD  1000.0   1000.0      NaN   \n",
       "3   1117247        3818  930101  PRIJEM     VKLAD   600.0    600.0      NaN   \n",
       "4    579373        1972  930102  PRIJEM     VKLAD   400.0    400.0      NaN   \n",
       "\n",
       "  bank  account  \n",
       "0  NaN      NaN  \n",
       "1  NaN      NaN  \n",
       "2  NaN      NaN  \n",
       "3  NaN      NaN  \n",
       "4  NaN      NaN  "
      ]
     },
     "execution_count": 12,
     "metadata": {},
     "output_type": "execute_result"
    }
   ],
   "source": [
    "trans.head()"
   ]
  },
  {
   "cell_type": "code",
   "execution_count": 13,
   "metadata": {
    "colab_type": "raw",
    "id": "Zk4bsbfKrzeS"
   },
   "outputs": [],
   "source": [
    "# merge dataframes by same keys or column names"
   ]
  },
  {
   "cell_type": "code",
   "execution_count": 14,
   "metadata": {
    "colab": {},
    "colab_type": "code",
    "id": "QAMDB9rarzeS"
   },
   "outputs": [],
   "source": [
    "df1 = pd.merge(account, loan, left_on='account_id', right_on='account_id', how='inner')\n",
    "df2 = pd.merge(account, order, left_on='account_id', right_on='account_id', how='inner')\n",
    "df3 = pd.merge(account, trans, left_on='account_id', right_on='account_id', how='inner')\n",
    "df4 = pd.merge(account, district, left_on='district_id', right_on='district code', how='inner')\n",
    "df5 = pd.merge(account, disp, left_on='account_id', right_on='account_id', how='inner')\n",
    "df = pd.merge(disp, card, left_on='disp_id', right_on='disp_id', how='inner')\n",
    "df6 = pd.merge(account, df, left_on='account_id', right_on='account_id', how='inner')\n",
    "df = pd.merge(disp, client, left_on='client_id', right_on='client_id', how='inner')\n",
    "df7 = pd.merge(account, df, left_on='account_id', right_on='account_id', how='inner')"
   ]
  },
  {
   "cell_type": "code",
   "execution_count": 15,
   "metadata": {
    "colab": {},
    "colab_type": "code",
    "id": "Lv_VQrBOrzeV"
   },
   "outputs": [],
   "source": [
    "from functools import reduce"
   ]
  },
  {
   "cell_type": "code",
   "execution_count": 16,
   "metadata": {
    "colab": {},
    "colab_type": "code",
    "id": "S824wfk5rzeX"
   },
   "outputs": [],
   "source": [
    "dfs = [df1, df2, df3, df4, df5, df6, df7]"
   ]
  },
  {
   "cell_type": "code",
   "execution_count": 17,
   "metadata": {
    "colab": {},
    "colab_type": "code",
    "id": "DZ71oyHXrzeY"
   },
   "outputs": [],
   "source": [
    "dataframe = reduce(lambda left,right: pd.merge(left, right, on = \"account_id\"), dfs)"
   ]
  },
  {
   "cell_type": "code",
   "execution_count": 18,
   "metadata": {
    "colab": {},
    "colab_type": "code",
    "id": "JJWmYcwarzea",
    "outputId": "c73d63c9-5919-4a6c-a1aa-1b570437e71f",
    "scrolled": true
   },
   "outputs": [
    {
     "data": {
      "text/html": [
       "<div>\n",
       "<style scoped>\n",
       "    .dataframe tbody tr th:only-of-type {\n",
       "        vertical-align: middle;\n",
       "    }\n",
       "\n",
       "    .dataframe tbody tr th {\n",
       "        vertical-align: top;\n",
       "    }\n",
       "\n",
       "    .dataframe thead th {\n",
       "        text-align: right;\n",
       "    }\n",
       "</style>\n",
       "<table border=\"1\" class=\"dataframe\">\n",
       "  <thead>\n",
       "    <tr style=\"text-align: right;\">\n",
       "      <th></th>\n",
       "      <th>account_id</th>\n",
       "      <th>loan_id</th>\n",
       "      <th>duration</th>\n",
       "      <th>payments</th>\n",
       "      <th>status</th>\n",
       "      <th>order_id</th>\n",
       "      <th>bank_to</th>\n",
       "      <th>account_to</th>\n",
       "      <th>trans_id</th>\n",
       "      <th>operation</th>\n",
       "      <th>...</th>\n",
       "      <th>no. of commited crimes 95</th>\n",
       "      <th>no. of commited crimes 96</th>\n",
       "      <th>card_id</th>\n",
       "      <th>issued</th>\n",
       "      <th>frequency</th>\n",
       "      <th>date</th>\n",
       "      <th>disp_id</th>\n",
       "      <th>client_id</th>\n",
       "      <th>type</th>\n",
       "      <th>birth_number</th>\n",
       "    </tr>\n",
       "  </thead>\n",
       "  <tbody>\n",
       "    <tr>\n",
       "      <th>0</th>\n",
       "      <td>5891</td>\n",
       "      <td>6202</td>\n",
       "      <td>12</td>\n",
       "      <td>5432.0</td>\n",
       "      <td>A</td>\n",
       "      <td>38118</td>\n",
       "      <td>EF</td>\n",
       "      <td>95617645</td>\n",
       "      <td>1736607</td>\n",
       "      <td>VKLAD</td>\n",
       "      <td>...</td>\n",
       "      <td>18721</td>\n",
       "      <td>18696</td>\n",
       "      <td>874</td>\n",
       "      <td>971007 00:00:00</td>\n",
       "      <td>POPLATEK MESICNE</td>\n",
       "      <td>930125</td>\n",
       "      <td>7127</td>\n",
       "      <td>7127</td>\n",
       "      <td>OWNER</td>\n",
       "      <td>570929</td>\n",
       "    </tr>\n",
       "    <tr>\n",
       "      <th>1</th>\n",
       "      <td>5891</td>\n",
       "      <td>6202</td>\n",
       "      <td>12</td>\n",
       "      <td>5432.0</td>\n",
       "      <td>A</td>\n",
       "      <td>38118</td>\n",
       "      <td>EF</td>\n",
       "      <td>95617645</td>\n",
       "      <td>1736609</td>\n",
       "      <td>PREVOD Z UCTU</td>\n",
       "      <td>...</td>\n",
       "      <td>18721</td>\n",
       "      <td>18696</td>\n",
       "      <td>874</td>\n",
       "      <td>971007 00:00:00</td>\n",
       "      <td>POPLATEK MESICNE</td>\n",
       "      <td>930125</td>\n",
       "      <td>7127</td>\n",
       "      <td>7127</td>\n",
       "      <td>OWNER</td>\n",
       "      <td>570929</td>\n",
       "    </tr>\n",
       "    <tr>\n",
       "      <th>2</th>\n",
       "      <td>5891</td>\n",
       "      <td>6202</td>\n",
       "      <td>12</td>\n",
       "      <td>5432.0</td>\n",
       "      <td>A</td>\n",
       "      <td>38118</td>\n",
       "      <td>EF</td>\n",
       "      <td>95617645</td>\n",
       "      <td>1736950</td>\n",
       "      <td>VYBER</td>\n",
       "      <td>...</td>\n",
       "      <td>18721</td>\n",
       "      <td>18696</td>\n",
       "      <td>874</td>\n",
       "      <td>971007 00:00:00</td>\n",
       "      <td>POPLATEK MESICNE</td>\n",
       "      <td>930125</td>\n",
       "      <td>7127</td>\n",
       "      <td>7127</td>\n",
       "      <td>OWNER</td>\n",
       "      <td>570929</td>\n",
       "    </tr>\n",
       "    <tr>\n",
       "      <th>3</th>\n",
       "      <td>5891</td>\n",
       "      <td>6202</td>\n",
       "      <td>12</td>\n",
       "      <td>5432.0</td>\n",
       "      <td>A</td>\n",
       "      <td>38118</td>\n",
       "      <td>EF</td>\n",
       "      <td>95617645</td>\n",
       "      <td>3673340</td>\n",
       "      <td>NaN</td>\n",
       "      <td>...</td>\n",
       "      <td>18721</td>\n",
       "      <td>18696</td>\n",
       "      <td>874</td>\n",
       "      <td>971007 00:00:00</td>\n",
       "      <td>POPLATEK MESICNE</td>\n",
       "      <td>930125</td>\n",
       "      <td>7127</td>\n",
       "      <td>7127</td>\n",
       "      <td>OWNER</td>\n",
       "      <td>570929</td>\n",
       "    </tr>\n",
       "    <tr>\n",
       "      <th>4</th>\n",
       "      <td>5891</td>\n",
       "      <td>6202</td>\n",
       "      <td>12</td>\n",
       "      <td>5432.0</td>\n",
       "      <td>A</td>\n",
       "      <td>38118</td>\n",
       "      <td>EF</td>\n",
       "      <td>95617645</td>\n",
       "      <td>1736610</td>\n",
       "      <td>PREVOD Z UCTU</td>\n",
       "      <td>...</td>\n",
       "      <td>18721</td>\n",
       "      <td>18696</td>\n",
       "      <td>874</td>\n",
       "      <td>971007 00:00:00</td>\n",
       "      <td>POPLATEK MESICNE</td>\n",
       "      <td>930125</td>\n",
       "      <td>7127</td>\n",
       "      <td>7127</td>\n",
       "      <td>OWNER</td>\n",
       "      <td>570929</td>\n",
       "    </tr>\n",
       "  </tbody>\n",
       "</table>\n",
       "<p>5 rows × 38 columns</p>\n",
       "</div>"
      ],
      "text/plain": [
       "   account_id  loan_id  duration  payments status  order_id bank_to  \\\n",
       "0        5891     6202        12    5432.0      A     38118      EF   \n",
       "1        5891     6202        12    5432.0      A     38118      EF   \n",
       "2        5891     6202        12    5432.0      A     38118      EF   \n",
       "3        5891     6202        12    5432.0      A     38118      EF   \n",
       "4        5891     6202        12    5432.0      A     38118      EF   \n",
       "\n",
       "   account_to  trans_id      operation      ...       \\\n",
       "0    95617645   1736607          VKLAD      ...        \n",
       "1    95617645   1736609  PREVOD Z UCTU      ...        \n",
       "2    95617645   1736950          VYBER      ...        \n",
       "3    95617645   3673340            NaN      ...        \n",
       "4    95617645   1736610  PREVOD Z UCTU      ...        \n",
       "\n",
       "   no. of commited crimes 95  no. of commited crimes 96 card_id  \\\n",
       "0                      18721                      18696     874   \n",
       "1                      18721                      18696     874   \n",
       "2                      18721                      18696     874   \n",
       "3                      18721                      18696     874   \n",
       "4                      18721                      18696     874   \n",
       "\n",
       "            issued         frequency    date disp_id  client_id   type  \\\n",
       "0  971007 00:00:00  POPLATEK MESICNE  930125    7127       7127  OWNER   \n",
       "1  971007 00:00:00  POPLATEK MESICNE  930125    7127       7127  OWNER   \n",
       "2  971007 00:00:00  POPLATEK MESICNE  930125    7127       7127  OWNER   \n",
       "3  971007 00:00:00  POPLATEK MESICNE  930125    7127       7127  OWNER   \n",
       "4  971007 00:00:00  POPLATEK MESICNE  930125    7127       7127  OWNER   \n",
       "\n",
       "   birth_number  \n",
       "0        570929  \n",
       "1        570929  \n",
       "2        570929  \n",
       "3        570929  \n",
       "4        570929  \n",
       "\n",
       "[5 rows x 38 columns]"
      ]
     },
     "execution_count": 18,
     "metadata": {},
     "output_type": "execute_result"
    }
   ],
   "source": [
    "data = dataframe[['account_id', 'loan_id', 'duration', 'payments', 'status', 'order_id', 'bank_to', 'account_to', 'trans_id', 'operation', 'amount', 'balance', 'bank', 'account', 'district code', 'district name', 'region', 'no. of inhabitants', 'no. of municipalities with inhabitants < 499', 'no. of municipalities with inhabitants 500-1999', 'no. of municipalities with inhabitants 2000-9999', 'no. of municipalities with inhabitants >10000', 'no. of cities', 'ratio of urban inhabitants', 'average salary', 'unemploymant rate 95', 'unemploymant rate 96', 'no. of enterpreneurs per 1000 inhabitants', 'no. of commited crimes 95', 'no. of commited crimes 96', 'card_id', 'issued', 'frequency', 'date', 'disp_id', 'client_id', 'type', 'birth_number']]\n",
    "data.head()"
   ]
  },
  {
   "cell_type": "code",
   "execution_count": 19,
   "metadata": {
    "colab": {},
    "colab_type": "code",
    "id": "ecuy9PYLrzee",
    "outputId": "fae19d2b-a864-49af-c056-171a86c5f55e"
   },
   "outputs": [
    {
     "data": {
      "text/plain": [
       "(174249, 38)"
      ]
     },
     "execution_count": 19,
     "metadata": {},
     "output_type": "execute_result"
    }
   ],
   "source": [
    "data.shape"
   ]
  },
  {
   "cell_type": "code",
   "execution_count": 20,
   "metadata": {
    "colab": {},
    "colab_type": "code",
    "id": "tmJazmgyrzeg",
    "outputId": "ce7fcc39-cfad-4f1f-89de-6e1c1876d419"
   },
   "outputs": [
    {
     "data": {
      "text/html": [
       "<div>\n",
       "<style scoped>\n",
       "    .dataframe tbody tr th:only-of-type {\n",
       "        vertical-align: middle;\n",
       "    }\n",
       "\n",
       "    .dataframe tbody tr th {\n",
       "        vertical-align: top;\n",
       "    }\n",
       "\n",
       "    .dataframe thead th {\n",
       "        text-align: right;\n",
       "    }\n",
       "</style>\n",
       "<table border=\"1\" class=\"dataframe\">\n",
       "  <thead>\n",
       "    <tr style=\"text-align: right;\">\n",
       "      <th></th>\n",
       "      <th>0</th>\n",
       "    </tr>\n",
       "  </thead>\n",
       "  <tbody>\n",
       "    <tr>\n",
       "      <th>operation</th>\n",
       "      <td>24197</td>\n",
       "    </tr>\n",
       "    <tr>\n",
       "      <th>bank</th>\n",
       "      <td>120490</td>\n",
       "    </tr>\n",
       "    <tr>\n",
       "      <th>account</th>\n",
       "      <td>107567</td>\n",
       "    </tr>\n",
       "  </tbody>\n",
       "</table>\n",
       "</div>"
      ],
      "text/plain": [
       "                0\n",
       "operation   24197\n",
       "bank       120490\n",
       "account    107567"
      ]
     },
     "execution_count": 20,
     "metadata": {},
     "output_type": "execute_result"
    }
   ],
   "source": [
    "# let's look at columns with missing values\n",
    "pd.DataFrame(data.isna().sum())[pd.DataFrame(data.isna().sum())[0] > 0]"
   ]
  },
  {
   "cell_type": "code",
   "execution_count": 21,
   "metadata": {
    "colab": {},
    "colab_type": "code",
    "id": "rJ_r8D2Erzej"
   },
   "outputs": [],
   "source": [
    "# Let's drop the columns with missing data"
   ]
  },
  {
   "cell_type": "code",
   "execution_count": 22,
   "metadata": {
    "colab": {},
    "colab_type": "code",
    "id": "wJPoWU0Drzel"
   },
   "outputs": [],
   "source": [
    "data = data.drop(['operation', 'bank', 'account'], axis = 1)"
   ]
  },
  {
   "cell_type": "code",
   "execution_count": 23,
   "metadata": {
    "colab": {},
    "colab_type": "code",
    "id": "bZD9y0Yhrzem",
    "outputId": "77fb0f54-3479-4a3a-ff06-09a0dad622bd"
   },
   "outputs": [
    {
     "data": {
      "text/plain": [
       "['account_id -----> int64',\n",
       " 'loan_id -----> int64',\n",
       " 'duration -----> int64',\n",
       " 'payments -----> float64',\n",
       " 'status -----> object',\n",
       " 'order_id -----> int64',\n",
       " 'bank_to -----> object',\n",
       " 'account_to -----> int64',\n",
       " 'trans_id -----> int64',\n",
       " 'amount -----> float64',\n",
       " 'balance -----> float64',\n",
       " 'district code -----> int32',\n",
       " 'district name -----> object',\n",
       " 'region -----> object',\n",
       " 'no. of inhabitants -----> int64',\n",
       " 'no. of municipalities with inhabitants < 499 -----> int64',\n",
       " 'no. of municipalities with inhabitants 500-1999 -----> int64',\n",
       " 'no. of municipalities with inhabitants 2000-9999 -----> int64',\n",
       " 'no. of municipalities with inhabitants >10000 -----> int64',\n",
       " 'no. of cities -----> int64',\n",
       " 'ratio of urban inhabitants -----> float64',\n",
       " 'average salary -----> int64',\n",
       " 'unemploymant rate 95 -----> object',\n",
       " 'unemploymant rate 96 -----> float64',\n",
       " 'no. of enterpreneurs per 1000 inhabitants -----> int64',\n",
       " 'no. of commited crimes 95 -----> object',\n",
       " 'no. of commited crimes 96 -----> int64',\n",
       " 'card_id -----> int64',\n",
       " 'issued -----> object',\n",
       " 'frequency -----> object',\n",
       " 'date -----> int64',\n",
       " 'disp_id -----> int64',\n",
       " 'client_id -----> int64',\n",
       " 'type -----> object',\n",
       " 'birth_number -----> int64']"
      ]
     },
     "execution_count": 23,
     "metadata": {},
     "output_type": "execute_result"
    }
   ],
   "source": [
    "[str(i) + ' -----> ' + str(data[i].dtype) for i in data]"
   ]
  },
  {
   "cell_type": "code",
   "execution_count": 24,
   "metadata": {
    "colab": {},
    "colab_type": "code",
    "id": "aobaBKNnrzep"
   },
   "outputs": [],
   "source": [
    "# there are some values filled with '?', replace them with NaN\n",
    "data = data.replace('?', np.nan)"
   ]
  },
  {
   "cell_type": "code",
   "execution_count": 25,
   "metadata": {
    "colab": {},
    "colab_type": "code",
    "id": "TIV6lmNUrzeq",
    "outputId": "46f7caea-71ed-4f87-bd1f-57ae1354db5d"
   },
   "outputs": [
    {
     "data": {
      "text/html": [
       "<div>\n",
       "<style scoped>\n",
       "    .dataframe tbody tr th:only-of-type {\n",
       "        vertical-align: middle;\n",
       "    }\n",
       "\n",
       "    .dataframe tbody tr th {\n",
       "        vertical-align: top;\n",
       "    }\n",
       "\n",
       "    .dataframe thead th {\n",
       "        text-align: right;\n",
       "    }\n",
       "</style>\n",
       "<table border=\"1\" class=\"dataframe\">\n",
       "  <thead>\n",
       "    <tr style=\"text-align: right;\">\n",
       "      <th></th>\n",
       "      <th>0</th>\n",
       "    </tr>\n",
       "  </thead>\n",
       "  <tbody>\n",
       "    <tr>\n",
       "      <th>unemploymant rate 95</th>\n",
       "      <td>1261</td>\n",
       "    </tr>\n",
       "    <tr>\n",
       "      <th>no. of commited crimes 95</th>\n",
       "      <td>1261</td>\n",
       "    </tr>\n",
       "  </tbody>\n",
       "</table>\n",
       "</div>"
      ],
      "text/plain": [
       "                              0\n",
       "unemploymant rate 95       1261\n",
       "no. of commited crimes 95  1261"
      ]
     },
     "execution_count": 25,
     "metadata": {},
     "output_type": "execute_result"
    }
   ],
   "source": [
    "# let's look at columns with missing values\n",
    "pd.DataFrame(data.isna().sum())[pd.DataFrame(data.isna().sum())[0] > 0]"
   ]
  },
  {
   "cell_type": "code",
   "execution_count": 26,
   "metadata": {},
   "outputs": [],
   "source": [
    "# Let's convert data types"
   ]
  },
  {
   "cell_type": "code",
   "execution_count": 27,
   "metadata": {
    "colab": {},
    "colab_type": "code",
    "id": "SUMBNeP8rzet"
   },
   "outputs": [],
   "source": [
    "data[['account_id', 'loan_id', 'duration', 'status', 'order_id', 'bank_to', 'account_to', 'trans_id', 'district code', 'district name', 'region', 'card_id', 'issued', 'frequency', 'date', 'disp_id', 'client_id', 'type', 'birth_number']] = data[['account_id', 'loan_id', 'duration', 'status', 'order_id', 'bank_to', 'account_to', 'trans_id', 'district code', 'district name', 'region', 'card_id', 'issued', 'frequency', 'date', 'disp_id', 'client_id', 'type', 'birth_number']].astype(object)"
   ]
  },
  {
   "cell_type": "code",
   "execution_count": 28,
   "metadata": {
    "colab": {},
    "colab_type": "code",
    "id": "GqzcOUABrzeu",
    "scrolled": true
   },
   "outputs": [],
   "source": [
    "data[['payments', 'amount', 'balance', 'ratio of urban inhabitants', 'average salary', 'unemploymant rate 95', 'unemploymant rate 96', 'no. of commited crimes 95', 'no. of commited crimes 96']] = data[['payments', 'amount', 'balance', 'ratio of urban inhabitants', 'average salary', 'unemploymant rate 95', 'unemploymant rate 96', 'no. of commited crimes 95', 'no. of commited crimes 96']].astype(float)"
   ]
  },
  {
   "cell_type": "code",
   "execution_count": 29,
   "metadata": {
    "colab": {},
    "colab_type": "code",
    "id": "aHPVrrALrzew",
    "scrolled": true
   },
   "outputs": [],
   "source": [
    "data[['no. of inhabitants', 'no. of municipalities with inhabitants < 499', 'no. of municipalities with inhabitants 500-1999', 'no. of municipalities with inhabitants 2000-9999', 'no. of municipalities with inhabitants >10000', 'no. of cities']] = data[['no. of inhabitants', 'no. of municipalities with inhabitants < 499', 'no. of municipalities with inhabitants 500-1999', 'no. of municipalities with inhabitants 2000-9999', 'no. of municipalities with inhabitants >10000', 'no. of cities']].astype(int)"
   ]
  },
  {
   "cell_type": "raw",
   "metadata": {
    "colab_type": "raw",
    "id": "U4PfAOBUrzex"
   },
   "source": [
    "# a function which will take human input to convert the datatype\n",
    "# def convertdt():\n",
    "#     for i in data.columns:\n",
    "#         print(i)\n",
    "#         dtype = input(\"Input data type float or int or object for above column\\n\")\n",
    "#         data[i] = data[i].astype(dtype)"
   ]
  },
  {
   "cell_type": "code",
   "execution_count": 31,
   "metadata": {
    "colab": {},
    "colab_type": "code",
    "id": "qipM-_X_rzex"
   },
   "outputs": [],
   "source": [
    "# fill missing values\n",
    "data[\"unemploymant rate 95\"] = data[\"unemploymant rate 95\"].fillna(np.mean(data[\"unemploymant rate 95\"]))\n",
    "data['no. of commited crimes 95'] = data['no. of commited crimes 95'].fillna(np.mean(data['no. of commited crimes 95']))"
   ]
  },
  {
   "cell_type": "code",
   "execution_count": 32,
   "metadata": {},
   "outputs": [
    {
     "data": {
      "text/plain": [
       "['account_id -----> object',\n",
       " 'loan_id -----> object',\n",
       " 'duration -----> object',\n",
       " 'payments -----> float64',\n",
       " 'status -----> object',\n",
       " 'order_id -----> object',\n",
       " 'bank_to -----> object',\n",
       " 'account_to -----> object',\n",
       " 'trans_id -----> object',\n",
       " 'amount -----> float64',\n",
       " 'balance -----> float64',\n",
       " 'district code -----> object',\n",
       " 'district name -----> object',\n",
       " 'region -----> object',\n",
       " 'no. of inhabitants -----> int32',\n",
       " 'no. of municipalities with inhabitants < 499 -----> int32',\n",
       " 'no. of municipalities with inhabitants 500-1999 -----> int32',\n",
       " 'no. of municipalities with inhabitants 2000-9999 -----> int32',\n",
       " 'no. of municipalities with inhabitants >10000 -----> int32',\n",
       " 'no. of cities -----> int32',\n",
       " 'ratio of urban inhabitants -----> float64',\n",
       " 'average salary -----> float64',\n",
       " 'unemploymant rate 95 -----> float64',\n",
       " 'unemploymant rate 96 -----> float64',\n",
       " 'no. of enterpreneurs per 1000 inhabitants -----> int64',\n",
       " 'no. of commited crimes 95 -----> float64',\n",
       " 'no. of commited crimes 96 -----> float64',\n",
       " 'card_id -----> object',\n",
       " 'issued -----> object',\n",
       " 'frequency -----> object',\n",
       " 'date -----> object',\n",
       " 'disp_id -----> object',\n",
       " 'client_id -----> object',\n",
       " 'type -----> object',\n",
       " 'birth_number -----> object']"
      ]
     },
     "execution_count": 32,
     "metadata": {},
     "output_type": "execute_result"
    }
   ],
   "source": [
    "[str(i) + ' -----> ' + str(data[i].dtype) for i in data]"
   ]
  },
  {
   "cell_type": "code",
   "execution_count": 33,
   "metadata": {
    "colab": {},
    "colab_type": "code",
    "id": "YtdCWAA5rze2"
   },
   "outputs": [],
   "source": [
    "# seperate numerical and object data types into seperate data frames\n",
    "data_num = data.select_dtypes(exclude = ['object'])\n",
    "data_cat = data.select_dtypes(include = ['object'])"
   ]
  },
  {
   "cell_type": "code",
   "execution_count": 34,
   "metadata": {
    "colab": {},
    "colab_type": "code",
    "id": "4hBnsUmnrze6",
    "outputId": "5d2bef8f-3a87-4691-eda1-71e88e09e175",
    "scrolled": true
   },
   "outputs": [
    {
     "data": {
      "text/plain": [
       "((174249, 19), (174249, 16))"
      ]
     },
     "execution_count": 34,
     "metadata": {},
     "output_type": "execute_result"
    }
   ],
   "source": [
    "data_cat.shape, data_num.shape"
   ]
  },
  {
   "cell_type": "code",
   "execution_count": 35,
   "metadata": {
    "colab": {},
    "colab_type": "code",
    "id": "sGLtZiulrze9",
    "outputId": "1d812573-4e23-4506-ab79-83a70496af4a"
   },
   "outputs": [
    {
     "data": {
      "text/html": [
       "<div>\n",
       "<style scoped>\n",
       "    .dataframe tbody tr th:only-of-type {\n",
       "        vertical-align: middle;\n",
       "    }\n",
       "\n",
       "    .dataframe tbody tr th {\n",
       "        vertical-align: top;\n",
       "    }\n",
       "\n",
       "    .dataframe thead th {\n",
       "        text-align: right;\n",
       "    }\n",
       "</style>\n",
       "<table border=\"1\" class=\"dataframe\">\n",
       "  <thead>\n",
       "    <tr style=\"text-align: right;\">\n",
       "      <th></th>\n",
       "      <th>payments</th>\n",
       "      <th>amount</th>\n",
       "      <th>balance</th>\n",
       "      <th>no. of inhabitants</th>\n",
       "      <th>no. of municipalities with inhabitants &lt; 499</th>\n",
       "      <th>no. of municipalities with inhabitants 500-1999</th>\n",
       "      <th>no. of municipalities with inhabitants 2000-9999</th>\n",
       "      <th>no. of municipalities with inhabitants &gt;10000</th>\n",
       "      <th>no. of cities</th>\n",
       "      <th>ratio of urban inhabitants</th>\n",
       "      <th>average salary</th>\n",
       "      <th>unemploymant rate 95</th>\n",
       "      <th>unemploymant rate 96</th>\n",
       "      <th>no. of enterpreneurs per 1000 inhabitants</th>\n",
       "      <th>no. of commited crimes 95</th>\n",
       "      <th>no. of commited crimes 96</th>\n",
       "    </tr>\n",
       "  </thead>\n",
       "  <tbody>\n",
       "    <tr>\n",
       "      <th>0</th>\n",
       "      <td>5432.0</td>\n",
       "      <td>900.0</td>\n",
       "      <td>900.0</td>\n",
       "      <td>387570</td>\n",
       "      <td>0</td>\n",
       "      <td>0</td>\n",
       "      <td>0</td>\n",
       "      <td>1</td>\n",
       "      <td>1</td>\n",
       "      <td>100.0</td>\n",
       "      <td>9897.0</td>\n",
       "      <td>1.6</td>\n",
       "      <td>1.96</td>\n",
       "      <td>140</td>\n",
       "      <td>18721.0</td>\n",
       "      <td>18696.0</td>\n",
       "    </tr>\n",
       "    <tr>\n",
       "      <th>1</th>\n",
       "      <td>5432.0</td>\n",
       "      <td>32594.0</td>\n",
       "      <td>33494.0</td>\n",
       "      <td>387570</td>\n",
       "      <td>0</td>\n",
       "      <td>0</td>\n",
       "      <td>0</td>\n",
       "      <td>1</td>\n",
       "      <td>1</td>\n",
       "      <td>100.0</td>\n",
       "      <td>9897.0</td>\n",
       "      <td>1.6</td>\n",
       "      <td>1.96</td>\n",
       "      <td>140</td>\n",
       "      <td>18721.0</td>\n",
       "      <td>18696.0</td>\n",
       "    </tr>\n",
       "    <tr>\n",
       "      <th>2</th>\n",
       "      <td>5432.0</td>\n",
       "      <td>4500.0</td>\n",
       "      <td>28994.0</td>\n",
       "      <td>387570</td>\n",
       "      <td>0</td>\n",
       "      <td>0</td>\n",
       "      <td>0</td>\n",
       "      <td>1</td>\n",
       "      <td>1</td>\n",
       "      <td>100.0</td>\n",
       "      <td>9897.0</td>\n",
       "      <td>1.6</td>\n",
       "      <td>1.96</td>\n",
       "      <td>140</td>\n",
       "      <td>18721.0</td>\n",
       "      <td>18696.0</td>\n",
       "    </tr>\n",
       "    <tr>\n",
       "      <th>3</th>\n",
       "      <td>5432.0</td>\n",
       "      <td>21.6</td>\n",
       "      <td>29015.6</td>\n",
       "      <td>387570</td>\n",
       "      <td>0</td>\n",
       "      <td>0</td>\n",
       "      <td>0</td>\n",
       "      <td>1</td>\n",
       "      <td>1</td>\n",
       "      <td>100.0</td>\n",
       "      <td>9897.0</td>\n",
       "      <td>1.6</td>\n",
       "      <td>1.96</td>\n",
       "      <td>140</td>\n",
       "      <td>18721.0</td>\n",
       "      <td>18696.0</td>\n",
       "    </tr>\n",
       "    <tr>\n",
       "      <th>4</th>\n",
       "      <td>5432.0</td>\n",
       "      <td>32594.0</td>\n",
       "      <td>61609.6</td>\n",
       "      <td>387570</td>\n",
       "      <td>0</td>\n",
       "      <td>0</td>\n",
       "      <td>0</td>\n",
       "      <td>1</td>\n",
       "      <td>1</td>\n",
       "      <td>100.0</td>\n",
       "      <td>9897.0</td>\n",
       "      <td>1.6</td>\n",
       "      <td>1.96</td>\n",
       "      <td>140</td>\n",
       "      <td>18721.0</td>\n",
       "      <td>18696.0</td>\n",
       "    </tr>\n",
       "  </tbody>\n",
       "</table>\n",
       "</div>"
      ],
      "text/plain": [
       "   payments   amount  balance  no. of inhabitants  \\\n",
       "0    5432.0    900.0    900.0              387570   \n",
       "1    5432.0  32594.0  33494.0              387570   \n",
       "2    5432.0   4500.0  28994.0              387570   \n",
       "3    5432.0     21.6  29015.6              387570   \n",
       "4    5432.0  32594.0  61609.6              387570   \n",
       "\n",
       "   no. of municipalities with inhabitants < 499  \\\n",
       "0                                             0   \n",
       "1                                             0   \n",
       "2                                             0   \n",
       "3                                             0   \n",
       "4                                             0   \n",
       "\n",
       "   no. of municipalities with inhabitants 500-1999  \\\n",
       "0                                                0   \n",
       "1                                                0   \n",
       "2                                                0   \n",
       "3                                                0   \n",
       "4                                                0   \n",
       "\n",
       "   no. of municipalities with inhabitants 2000-9999  \\\n",
       "0                                                 0   \n",
       "1                                                 0   \n",
       "2                                                 0   \n",
       "3                                                 0   \n",
       "4                                                 0   \n",
       "\n",
       "   no. of municipalities with inhabitants >10000  no. of cities  \\\n",
       "0                                              1              1   \n",
       "1                                              1              1   \n",
       "2                                              1              1   \n",
       "3                                              1              1   \n",
       "4                                              1              1   \n",
       "\n",
       "   ratio of urban inhabitants  average salary  unemploymant rate 95  \\\n",
       "0                       100.0          9897.0                   1.6   \n",
       "1                       100.0          9897.0                   1.6   \n",
       "2                       100.0          9897.0                   1.6   \n",
       "3                       100.0          9897.0                   1.6   \n",
       "4                       100.0          9897.0                   1.6   \n",
       "\n",
       "   unemploymant rate 96  no. of enterpreneurs per 1000 inhabitants  \\\n",
       "0                  1.96                                        140   \n",
       "1                  1.96                                        140   \n",
       "2                  1.96                                        140   \n",
       "3                  1.96                                        140   \n",
       "4                  1.96                                        140   \n",
       "\n",
       "   no. of commited crimes 95  no. of commited crimes 96  \n",
       "0                    18721.0                    18696.0  \n",
       "1                    18721.0                    18696.0  \n",
       "2                    18721.0                    18696.0  \n",
       "3                    18721.0                    18696.0  \n",
       "4                    18721.0                    18696.0  "
      ]
     },
     "execution_count": 35,
     "metadata": {},
     "output_type": "execute_result"
    }
   ],
   "source": [
    "data_num.head()"
   ]
  },
  {
   "cell_type": "code",
   "execution_count": 36,
   "metadata": {
    "colab": {},
    "colab_type": "code",
    "id": "zDlPRz-OrzfA",
    "outputId": "7c4b7140-0713-4c50-b74d-29291198f79a",
    "scrolled": true
   },
   "outputs": [
    {
     "data": {
      "text/html": [
       "<div>\n",
       "<style scoped>\n",
       "    .dataframe tbody tr th:only-of-type {\n",
       "        vertical-align: middle;\n",
       "    }\n",
       "\n",
       "    .dataframe tbody tr th {\n",
       "        vertical-align: top;\n",
       "    }\n",
       "\n",
       "    .dataframe thead th {\n",
       "        text-align: right;\n",
       "    }\n",
       "</style>\n",
       "<table border=\"1\" class=\"dataframe\">\n",
       "  <thead>\n",
       "    <tr style=\"text-align: right;\">\n",
       "      <th></th>\n",
       "      <th>account_id</th>\n",
       "      <th>loan_id</th>\n",
       "      <th>duration</th>\n",
       "      <th>status</th>\n",
       "      <th>order_id</th>\n",
       "      <th>bank_to</th>\n",
       "      <th>account_to</th>\n",
       "      <th>trans_id</th>\n",
       "      <th>district code</th>\n",
       "      <th>district name</th>\n",
       "      <th>region</th>\n",
       "      <th>card_id</th>\n",
       "      <th>issued</th>\n",
       "      <th>frequency</th>\n",
       "      <th>date</th>\n",
       "      <th>disp_id</th>\n",
       "      <th>client_id</th>\n",
       "      <th>type</th>\n",
       "      <th>birth_number</th>\n",
       "    </tr>\n",
       "  </thead>\n",
       "  <tbody>\n",
       "    <tr>\n",
       "      <th>0</th>\n",
       "      <td>5891</td>\n",
       "      <td>6202</td>\n",
       "      <td>12</td>\n",
       "      <td>A</td>\n",
       "      <td>38118</td>\n",
       "      <td>EF</td>\n",
       "      <td>95617645</td>\n",
       "      <td>1736607</td>\n",
       "      <td>54</td>\n",
       "      <td>Brno - mesto</td>\n",
       "      <td>south Moravia</td>\n",
       "      <td>874</td>\n",
       "      <td>971007 00:00:00</td>\n",
       "      <td>POPLATEK MESICNE</td>\n",
       "      <td>930125</td>\n",
       "      <td>7127</td>\n",
       "      <td>7127</td>\n",
       "      <td>OWNER</td>\n",
       "      <td>570929</td>\n",
       "    </tr>\n",
       "    <tr>\n",
       "      <th>1</th>\n",
       "      <td>5891</td>\n",
       "      <td>6202</td>\n",
       "      <td>12</td>\n",
       "      <td>A</td>\n",
       "      <td>38118</td>\n",
       "      <td>EF</td>\n",
       "      <td>95617645</td>\n",
       "      <td>1736609</td>\n",
       "      <td>54</td>\n",
       "      <td>Brno - mesto</td>\n",
       "      <td>south Moravia</td>\n",
       "      <td>874</td>\n",
       "      <td>971007 00:00:00</td>\n",
       "      <td>POPLATEK MESICNE</td>\n",
       "      <td>930125</td>\n",
       "      <td>7127</td>\n",
       "      <td>7127</td>\n",
       "      <td>OWNER</td>\n",
       "      <td>570929</td>\n",
       "    </tr>\n",
       "    <tr>\n",
       "      <th>2</th>\n",
       "      <td>5891</td>\n",
       "      <td>6202</td>\n",
       "      <td>12</td>\n",
       "      <td>A</td>\n",
       "      <td>38118</td>\n",
       "      <td>EF</td>\n",
       "      <td>95617645</td>\n",
       "      <td>1736950</td>\n",
       "      <td>54</td>\n",
       "      <td>Brno - mesto</td>\n",
       "      <td>south Moravia</td>\n",
       "      <td>874</td>\n",
       "      <td>971007 00:00:00</td>\n",
       "      <td>POPLATEK MESICNE</td>\n",
       "      <td>930125</td>\n",
       "      <td>7127</td>\n",
       "      <td>7127</td>\n",
       "      <td>OWNER</td>\n",
       "      <td>570929</td>\n",
       "    </tr>\n",
       "    <tr>\n",
       "      <th>3</th>\n",
       "      <td>5891</td>\n",
       "      <td>6202</td>\n",
       "      <td>12</td>\n",
       "      <td>A</td>\n",
       "      <td>38118</td>\n",
       "      <td>EF</td>\n",
       "      <td>95617645</td>\n",
       "      <td>3673340</td>\n",
       "      <td>54</td>\n",
       "      <td>Brno - mesto</td>\n",
       "      <td>south Moravia</td>\n",
       "      <td>874</td>\n",
       "      <td>971007 00:00:00</td>\n",
       "      <td>POPLATEK MESICNE</td>\n",
       "      <td>930125</td>\n",
       "      <td>7127</td>\n",
       "      <td>7127</td>\n",
       "      <td>OWNER</td>\n",
       "      <td>570929</td>\n",
       "    </tr>\n",
       "    <tr>\n",
       "      <th>4</th>\n",
       "      <td>5891</td>\n",
       "      <td>6202</td>\n",
       "      <td>12</td>\n",
       "      <td>A</td>\n",
       "      <td>38118</td>\n",
       "      <td>EF</td>\n",
       "      <td>95617645</td>\n",
       "      <td>1736610</td>\n",
       "      <td>54</td>\n",
       "      <td>Brno - mesto</td>\n",
       "      <td>south Moravia</td>\n",
       "      <td>874</td>\n",
       "      <td>971007 00:00:00</td>\n",
       "      <td>POPLATEK MESICNE</td>\n",
       "      <td>930125</td>\n",
       "      <td>7127</td>\n",
       "      <td>7127</td>\n",
       "      <td>OWNER</td>\n",
       "      <td>570929</td>\n",
       "    </tr>\n",
       "  </tbody>\n",
       "</table>\n",
       "</div>"
      ],
      "text/plain": [
       "  account_id loan_id duration status order_id bank_to account_to trans_id  \\\n",
       "0       5891    6202       12      A    38118      EF   95617645  1736607   \n",
       "1       5891    6202       12      A    38118      EF   95617645  1736609   \n",
       "2       5891    6202       12      A    38118      EF   95617645  1736950   \n",
       "3       5891    6202       12      A    38118      EF   95617645  3673340   \n",
       "4       5891    6202       12      A    38118      EF   95617645  1736610   \n",
       "\n",
       "  district code district name         region card_id           issued  \\\n",
       "0            54  Brno - mesto  south Moravia     874  971007 00:00:00   \n",
       "1            54  Brno - mesto  south Moravia     874  971007 00:00:00   \n",
       "2            54  Brno - mesto  south Moravia     874  971007 00:00:00   \n",
       "3            54  Brno - mesto  south Moravia     874  971007 00:00:00   \n",
       "4            54  Brno - mesto  south Moravia     874  971007 00:00:00   \n",
       "\n",
       "          frequency    date disp_id client_id   type birth_number  \n",
       "0  POPLATEK MESICNE  930125    7127      7127  OWNER       570929  \n",
       "1  POPLATEK MESICNE  930125    7127      7127  OWNER       570929  \n",
       "2  POPLATEK MESICNE  930125    7127      7127  OWNER       570929  \n",
       "3  POPLATEK MESICNE  930125    7127      7127  OWNER       570929  \n",
       "4  POPLATEK MESICNE  930125    7127      7127  OWNER       570929  "
      ]
     },
     "execution_count": 36,
     "metadata": {},
     "output_type": "execute_result"
    }
   ],
   "source": [
    "data_cat.head()"
   ]
  },
  {
   "cell_type": "code",
   "execution_count": 37,
   "metadata": {
    "colab": {},
    "colab_type": "code",
    "id": "K1P1VqECrzfE",
    "outputId": "1a61b766-6393-416b-bfa9-028d2cbec669",
    "scrolled": false
   },
   "outputs": [
    {
     "data": {
      "image/png": "[encoded data removed]",
      "text/plain": [
       "<matplotlib.figure.Figure at 0x1cff1a1d9e8>"
      ]
     },
     "metadata": {},
     "output_type": "display_data"
    }
   ],
   "source": [
    "plt.figure(figsize = (14, 8))\n",
    "plt.subplot(2, 2, 1)\n",
    "data_cat.duration.value_counts().plot.bar()\n",
    "plt.xlabel('duration')\n",
    "plt.ylabel('count')\n",
    "\n",
    "plt.subplot(2, 2, 2)\n",
    "data_cat.type.value_counts().plot.bar()\n",
    "plt.xlabel('user account type')\n",
    "plt.ylabel('count')\n",
    "plt.xticks(rotation = 0)\n",
    "\n",
    "plt.subplot(2, 2, 3)\n",
    "data_cat.status.value_counts().plot.bar()\n",
    "plt.xlabel('status')\n",
    "plt.ylabel('count')\n",
    "\n",
    "plt.subplot(2, 2, 4)\n",
    "data_cat.frequency.value_counts().plot.bar()\n",
    "plt.xlabel('frequency')\n",
    "plt.ylabel('count')\n",
    "\n",
    "plt.show()"
   ]
  },
  {
   "cell_type": "code",
   "execution_count": 38,
   "metadata": {
    "colab": {},
    "colab_type": "code",
    "id": "6rHehHnnrzfU"
   },
   "outputs": [],
   "source": [
    "# check classes in categorical columns\n",
    "def check_value_counts(x):\n",
    "    return len(x.value_counts())"
   ]
  },
  {
   "cell_type": "code",
   "execution_count": 39,
   "metadata": {
    "colab": {},
    "colab_type": "code",
    "id": "5pKxbN0ArzfV",
    "outputId": "b1b82af3-65cd-4043-bdca-0170be37c142"
   },
   "outputs": [
    {
     "data": {
      "text/html": [
       "<div>\n",
       "<style scoped>\n",
       "    .dataframe tbody tr th:only-of-type {\n",
       "        vertical-align: middle;\n",
       "    }\n",
       "\n",
       "    .dataframe tbody tr th {\n",
       "        vertical-align: top;\n",
       "    }\n",
       "\n",
       "    .dataframe thead th {\n",
       "        text-align: right;\n",
       "    }\n",
       "</style>\n",
       "<table border=\"1\" class=\"dataframe\">\n",
       "  <thead>\n",
       "    <tr style=\"text-align: right;\">\n",
       "      <th></th>\n",
       "      <th>account_id</th>\n",
       "      <th>loan_id</th>\n",
       "      <th>duration</th>\n",
       "      <th>status</th>\n",
       "      <th>order_id</th>\n",
       "      <th>bank_to</th>\n",
       "      <th>account_to</th>\n",
       "      <th>trans_id</th>\n",
       "      <th>district code</th>\n",
       "      <th>district name</th>\n",
       "      <th>region</th>\n",
       "      <th>card_id</th>\n",
       "      <th>issued</th>\n",
       "      <th>frequency</th>\n",
       "      <th>date</th>\n",
       "      <th>disp_id</th>\n",
       "      <th>client_id</th>\n",
       "      <th>type</th>\n",
       "      <th>birth_number</th>\n",
       "    </tr>\n",
       "  </thead>\n",
       "  <tbody>\n",
       "    <tr>\n",
       "      <th>0</th>\n",
       "      <td>170</td>\n",
       "      <td>170</td>\n",
       "      <td>5</td>\n",
       "      <td>4</td>\n",
       "      <td>354</td>\n",
       "      <td>13</td>\n",
       "      <td>351</td>\n",
       "      <td>47127</td>\n",
       "      <td>60</td>\n",
       "      <td>60</td>\n",
       "      <td>8</td>\n",
       "      <td>170</td>\n",
       "      <td>160</td>\n",
       "      <td>3</td>\n",
       "      <td>162</td>\n",
       "      <td>206</td>\n",
       "      <td>206</td>\n",
       "      <td>2</td>\n",
       "      <td>205</td>\n",
       "    </tr>\n",
       "  </tbody>\n",
       "</table>\n",
       "</div>"
      ],
      "text/plain": [
       "   account_id  loan_id  duration  status  order_id  bank_to  account_to  \\\n",
       "0         170      170         5       4       354       13         351   \n",
       "\n",
       "   trans_id  district code  district name  region  card_id  issued  frequency  \\\n",
       "0     47127             60             60       8      170     160          3   \n",
       "\n",
       "   date  disp_id  client_id  type  birth_number  \n",
       "0   162      206        206     2           205  "
      ]
     },
     "execution_count": 39,
     "metadata": {},
     "output_type": "execute_result"
    }
   ],
   "source": [
    "pd.DataFrame(data_cat.apply(lambda x: check_value_counts(x))).T"
   ]
  },
  {
   "cell_type": "code",
   "execution_count": 40,
   "metadata": {
    "colab": {},
    "colab_type": "code",
    "id": "Q1di55-arzfZ"
   },
   "outputs": [],
   "source": [
    "data_cat_dum = pd.get_dummies(data_cat[['duration', 'status', 'bank_to', 'region','frequency','type']])"
   ]
  },
  {
   "cell_type": "code",
   "execution_count": 41,
   "metadata": {},
   "outputs": [
    {
     "data": {
      "text/plain": [
       "payments                                            5.170595e+06\n",
       "amount                                              1.667617e+08\n",
       "balance                                             5.923564e+08\n",
       "no. of inhabitants                                  1.087212e+11\n",
       "no. of municipalities with inhabitants < 499        9.304852e+02\n",
       "no. of municipalities with inhabitants 500-1999     2.616588e+02\n",
       "no. of municipalities with inhabitants 2000-9999    1.771684e+01\n",
       "no. of municipalities with inhabitants >10000       1.316124e+00\n",
       "no. of cities                                       8.735643e+00\n",
       "ratio of urban inhabitants                          4.137929e+02\n",
       "average salary                                      1.593380e+06\n",
       "unemploymant rate 95                                3.592341e+00\n",
       "unemploymant rate 96                                4.768352e+00\n",
       "no. of enterpreneurs per 1000 inhabitants           4.749725e+02\n",
       "no. of commited crimes 95                           6.111504e+08\n",
       "no. of commited crimes 96                           8.225052e+08\n",
       "dtype: float64"
      ]
     },
     "execution_count": 41,
     "metadata": {},
     "output_type": "execute_result"
    }
   ],
   "source": [
    "data_num.var() # to check variance"
   ]
  },
  {
   "cell_type": "code",
   "execution_count": 42,
   "metadata": {
    "colab": {},
    "colab_type": "code",
    "id": "Xi9ULqMJrzfa"
   },
   "outputs": [],
   "source": [
    "# let's remove variance from columns\n",
    "scaler = StandardScaler()"
   ]
  },
  {
   "cell_type": "code",
   "execution_count": 43,
   "metadata": {
    "colab": {},
    "colab_type": "code",
    "id": "gaTrcLZ4rzfc",
    "outputId": "1f4cf15a-a31b-4517-b0b3-6b308321a0f2"
   },
   "outputs": [
    {
     "name": "stderr",
     "output_type": "stream",
     "text": [
      "C:\\Users\\nick2\\AppData\\Roaming\\Python\\Python36\\site-packages\\sklearn\\preprocessing\\data.py:625: DataConversionWarning: Data with input dtype int32, int64, float64 were all converted to float64 by StandardScaler.\n",
      "  return self.partial_fit(X, y)\n",
      "C:\\Users\\nick2\\AppData\\Roaming\\Python\\Python36\\site-packages\\sklearn\\base.py:462: DataConversionWarning: Data with input dtype int32, int64, float64 were all converted to float64 by StandardScaler.\n",
      "  return self.fit(X, **fit_params).transform(X)\n"
     ]
    }
   ],
   "source": [
    "data_num_sca = scaler.fit_transform(data_num)"
   ]
  },
  {
   "cell_type": "code",
   "execution_count": 44,
   "metadata": {
    "colab": {},
    "colab_type": "code",
    "id": "3fAjjGYwrzfe"
   },
   "outputs": [],
   "source": [
    "data_num_sca = pd.DataFrame(data_num_sca, index = data_num.index, columns = data_num.columns)"
   ]
  },
  {
   "cell_type": "code",
   "execution_count": 45,
   "metadata": {
    "colab": {},
    "colab_type": "code",
    "id": "k7WVIQ7Wrzfg"
   },
   "outputs": [],
   "source": [
    "data_new = pd.concat([data_cat_dum, data_num_sca], axis = 1) # combining numerical and object dataframes back"
   ]
  },
  {
   "cell_type": "code",
   "execution_count": 46,
   "metadata": {
    "colab": {},
    "colab_type": "code",
    "id": "mryh2mYsrzfk",
    "outputId": "26965aab-e04e-46b6-f67f-021b9f3b8d2f"
   },
   "outputs": [
    {
     "data": {
      "text/plain": [
       "(174249, 51)"
      ]
     },
     "execution_count": 46,
     "metadata": {},
     "output_type": "execute_result"
    }
   ],
   "source": [
    "data_new.shape"
   ]
  },
  {
   "cell_type": "code",
   "execution_count": 47,
   "metadata": {
    "colab": {},
    "colab_type": "code",
    "id": "R95hnIgXrzfm",
    "outputId": "dba96ff4-9e9a-46c9-a3f2-5de8845939dc"
   },
   "outputs": [
    {
     "data": {
      "text/plain": [
       "0    165482\n",
       "1      8767\n",
       "Name: 0, dtype: int64"
      ]
     },
     "execution_count": 47,
     "metadata": {},
     "output_type": "execute_result"
    }
   ],
   "source": [
    "pd.DataFrame((np.random.random(len(data)) < .05).astype(int))[0].value_counts()"
   ]
  },
  {
   "cell_type": "code",
   "execution_count": 48,
   "metadata": {
    "colab": {},
    "colab_type": "code",
    "id": "doCmzm06rzfn"
   },
   "outputs": [],
   "source": [
    "# to reduce the features let's apply PCA"
   ]
  },
  {
   "cell_type": "code",
   "execution_count": 49,
   "metadata": {
    "colab": {},
    "colab_type": "code",
    "id": "6iY4Thh1rzfp"
   },
   "outputs": [],
   "source": [
    "pca = PCA()\n",
    "pca.fit(data_new)\n",
    "features = range(pca.n_components_)"
   ]
  },
  {
   "cell_type": "code",
   "execution_count": 50,
   "metadata": {
    "colab": {},
    "colab_type": "code",
    "id": "utdHPZ7zrzfq",
    "outputId": "b63980bd-90e7-4662-a682-39b6f2b58aa3"
   },
   "outputs": [
    {
     "data": {
      "image/png": "[encoded data removed]",
      "text/plain": [
       "<matplotlib.figure.Figure at 0x1cf8e1ce518>"
      ]
     },
     "metadata": {},
     "output_type": "display_data"
    }
   ],
   "source": [
    "plt.figure(figsize = (15, 4))\n",
    "plt.bar(features, pca.explained_variance_)\n",
    "plt.xticks(features)\n",
    "plt.ylabel('variance')\n",
    "plt.xlabel('pca features')\n",
    "plt.show()"
   ]
  },
  {
   "cell_type": "code",
   "execution_count": 51,
   "metadata": {
    "colab": {},
    "colab_type": "code",
    "id": "H-LNRHZFrzfs"
   },
   "outputs": [],
   "source": [
    "# from above bar plt showing variance, choosing 2 features \n",
    "pca = PCA(n_components = 2).fit(data_new) # fitting pca on dataframe "
   ]
  },
  {
   "cell_type": "code",
   "execution_count": 52,
   "metadata": {
    "colab": {},
    "colab_type": "code",
    "id": "cwCoFgS0rzft"
   },
   "outputs": [],
   "source": [
    "data_new_pca = pca.transform(data_new)  # transforming dataframe to have only 2 features"
   ]
  },
  {
   "cell_type": "code",
   "execution_count": 53,
   "metadata": {
    "colab": {},
    "colab_type": "code",
    "id": "QxzUoIWorzfu",
    "outputId": "55efc43a-77bf-455b-f198-97bc3cab3a54"
   },
   "outputs": [
    {
     "data": {
      "text/plain": [
       "array([[ 2.82307941,  0.32841694],\n",
       "       [ 2.78196777,  0.43693971],\n",
       "       [ 2.79474751,  0.38081481],\n",
       "       ...,\n",
       "       [-1.33829255,  2.3613563 ],\n",
       "       [-1.38803451,  2.4894892 ],\n",
       "       [-1.37623734,  2.42037238]])"
      ]
     },
     "execution_count": 53,
     "metadata": {},
     "output_type": "execute_result"
    }
   ],
   "source": [
    "data_new_pca"
   ]
  },
  {
   "cell_type": "code",
   "execution_count": 54,
   "metadata": {
    "colab": {},
    "colab_type": "code",
    "id": "lUY49fnorzfw"
   },
   "outputs": [],
   "source": [
    "# our aim is to find a pattern in data points, so we can mark abnormal behaviour flag,\n",
    "# let's use kmeans for getting the cluters and finding a pattern"
   ]
  },
  {
   "cell_type": "code",
   "execution_count": 55,
   "metadata": {
    "colab": {},
    "colab_type": "code",
    "id": "mWkKAGalrzfz"
   },
   "outputs": [],
   "source": [
    "kmeans = KMeans(n_clusters = 10) # picking 10 clusters after some thought"
   ]
  },
  {
   "cell_type": "code",
   "execution_count": 56,
   "metadata": {
    "colab": {},
    "colab_type": "code",
    "id": "01Sdxm68rzf0",
    "outputId": "57398a67-19c1-4c39-fe20-22dae245710c"
   },
   "outputs": [
    {
     "data": {
      "text/plain": [
       "KMeans(algorithm='auto', copy_x=True, init='k-means++', max_iter=300,\n",
       "    n_clusters=10, n_init=10, n_jobs=None, precompute_distances='auto',\n",
       "    random_state=None, tol=0.0001, verbose=0)"
      ]
     },
     "execution_count": 56,
     "metadata": {},
     "output_type": "execute_result"
    }
   ],
   "source": [
    "kmeans.fit(data_new_pca)"
   ]
  },
  {
   "cell_type": "code",
   "execution_count": 57,
   "metadata": {
    "colab": {},
    "colab_type": "code",
    "id": "J6BE3O2Lrzf4"
   },
   "outputs": [],
   "source": [
    "labels = kmeans.predict(data_new_pca)"
   ]
  },
  {
   "cell_type": "code",
   "execution_count": 58,
   "metadata": {
    "colab": {},
    "colab_type": "code",
    "id": "41kmrNAdrzf7",
    "outputId": "37a78c22-34c2-4452-97fe-d571fb6a6f3c"
   },
   "outputs": [
    {
     "name": "stdout",
     "output_type": "stream",
     "text": [
      "labels are:  [0 1 2 3 4 5 6 7 8 9]\n"
     ]
    }
   ],
   "source": [
    "print('labels are: ', np.unique(labels))"
   ]
  },
  {
   "cell_type": "code",
   "execution_count": 59,
   "metadata": {
    "colab": {},
    "colab_type": "code",
    "id": "VbFFSEnsrzf9",
    "outputId": "7e16543a-ad7a-45d7-cafc-5ce7f7dda2e2"
   },
   "outputs": [
    {
     "data": {
      "text/html": [
       "<div>\n",
       "<style scoped>\n",
       "    .dataframe tbody tr th:only-of-type {\n",
       "        vertical-align: middle;\n",
       "    }\n",
       "\n",
       "    .dataframe tbody tr th {\n",
       "        vertical-align: top;\n",
       "    }\n",
       "\n",
       "    .dataframe thead th {\n",
       "        text-align: right;\n",
       "    }\n",
       "</style>\n",
       "<table border=\"1\" class=\"dataframe\">\n",
       "  <thead>\n",
       "    <tr style=\"text-align: right;\">\n",
       "      <th></th>\n",
       "      <th>4</th>\n",
       "      <th>3</th>\n",
       "      <th>2</th>\n",
       "      <th>0</th>\n",
       "      <th>7</th>\n",
       "      <th>5</th>\n",
       "      <th>1</th>\n",
       "      <th>9</th>\n",
       "      <th>8</th>\n",
       "      <th>6</th>\n",
       "    </tr>\n",
       "  </thead>\n",
       "  <tbody>\n",
       "    <tr>\n",
       "      <th>0</th>\n",
       "      <td>51755</td>\n",
       "      <td>29600</td>\n",
       "      <td>17456</td>\n",
       "      <td>17363</td>\n",
       "      <td>14406</td>\n",
       "      <td>12549</td>\n",
       "      <td>12461</td>\n",
       "      <td>11470</td>\n",
       "      <td>3725</td>\n",
       "      <td>3464</td>\n",
       "    </tr>\n",
       "  </tbody>\n",
       "</table>\n",
       "</div>"
      ],
      "text/plain": [
       "       4      3      2      0      7      5      1      9     8     6\n",
       "0  51755  29600  17456  17363  14406  12549  12461  11470  3725  3464"
      ]
     },
     "execution_count": 59,
     "metadata": {},
     "output_type": "execute_result"
    }
   ],
   "source": [
    "# looking at the number of data points under each label/class\n",
    "clusters_numbers = pd.DataFrame(pd.DataFrame(labels)[0].value_counts())\n",
    "clusters_numbers.T"
   ]
  },
  {
   "cell_type": "code",
   "execution_count": 60,
   "metadata": {
    "colab": {},
    "colab_type": "code",
    "id": "xaJ1e5z0rzf_",
    "outputId": "7146e97c-1b00-4413-d4e2-9af9dc2c3ab5"
   },
   "outputs": [
    {
     "name": "stderr",
     "output_type": "stream",
     "text": [
      "C:\\ProgramData\\Anaconda3\\lib\\site-packages\\matplotlib\\axes\\_axes.py:545: UserWarning: No labelled objects found. Use label='...' kwarg on individual plots.\n",
      "  warnings.warn(\"No labelled objects found. \"\n"
     ]
    },
    {
     "data": {
      "image/png": "[encoded data removed]",
      "text/plain": [
       "<matplotlib.figure.Figure at 0x1cf891bdda0>"
      ]
     },
     "metadata": {},
     "output_type": "display_data"
    }
   ],
   "source": [
    "# plotting these clusters\n",
    "plt.scatter(x =(data_new_pca)[:,0], y = (data_new_pca)[:,1], marker = 'o', c = labels)\n",
    "plt.legend()\n",
    "plt.show()"
   ]
  },
  {
   "cell_type": "code",
   "execution_count": 61,
   "metadata": {
    "colab": {},
    "colab_type": "code",
    "id": "6Vq-LF3erzgB"
   },
   "outputs": [],
   "source": [
    "to_plot = pd.concat([pd.DataFrame(data_new_pca, columns= ['x', 'y']), pd.DataFrame(labels, columns= ['label'])], axis = 1)"
   ]
  },
  {
   "cell_type": "code",
   "execution_count": 62,
   "metadata": {
    "colab": {},
    "colab_type": "code",
    "id": "E7i4efzyrzgG",
    "outputId": "4efc7844-5a00-466f-acfb-8194874d1273"
   },
   "outputs": [
    {
     "data": {
      "image/png": "[encoded data removed]",
      "text/plain": [
       "<matplotlib.figure.Figure at 0x1cf89655c88>"
      ]
     },
     "metadata": {},
     "output_type": "display_data"
    }
   ],
   "source": [
    "sns.lmplot(data = to_plot, x = 'x', y = 'y', hue = 'label' , legend = True)\n",
    "plt.show()"
   ]
  },
  {
   "cell_type": "code",
   "execution_count": 63,
   "metadata": {},
   "outputs": [],
   "source": [
    " # cluster with 3725 data points is showing most steep downward line, let's pick these people for suspicious activity"
   ]
  },
  {
   "cell_type": "code",
   "execution_count": 64,
   "metadata": {},
   "outputs": [
    {
     "name": "stdout",
     "output_type": "stream",
     "text": [
      "cluster with most steep downward line is:  8\n"
     ]
    }
   ],
   "source": [
    "choice3725, = clusters_numbers.index[clusters_numbers[0] == 3725]\n",
    "print('cluster with most steep downward line is: ', choice3725)"
   ]
  },
  {
   "cell_type": "code",
   "execution_count": 65,
   "metadata": {
    "colab": {},
    "colab_type": "code",
    "id": "wgIkRiqfrzgI"
   },
   "outputs": [],
   "source": [
    "sb = pd.DataFrame(labels, columns= ['label'])"
   ]
  },
  {
   "cell_type": "code",
   "execution_count": 66,
   "metadata": {
    "colab": {},
    "colab_type": "code",
    "id": "qiyMG1gWrzgJ"
   },
   "outputs": [],
   "source": [
    "sb['flag'] = 0"
   ]
  },
  {
   "cell_type": "code",
   "execution_count": 67,
   "metadata": {
    "colab": {},
    "colab_type": "code",
    "id": "tmZsB9ykrzgK",
    "outputId": "54c69636-859c-4228-85d4-f4c043601eae"
   },
   "outputs": [],
   "source": [
    "sb.flag[sb.label == choice3725] = 1"
   ]
  },
  {
   "cell_type": "code",
   "execution_count": 68,
   "metadata": {
    "colab": {},
    "colab_type": "code",
    "id": "DWjyfkezrzgM",
    "outputId": "b17af0cf-56a1-468a-a245-43ec85ec5afa"
   },
   "outputs": [
    {
     "data": {
      "text/plain": [
       "0    170524\n",
       "1      3725\n",
       "Name: flag, dtype: int64"
      ]
     },
     "execution_count": 68,
     "metadata": {},
     "output_type": "execute_result"
    }
   ],
   "source": [
    "sb.flag.value_counts()"
   ]
  },
  {
   "cell_type": "code",
   "execution_count": 69,
   "metadata": {
    "colab": {},
    "colab_type": "code",
    "id": "tPLypoajrzgP"
   },
   "outputs": [],
   "source": [
    "## Classification is performed below"
   ]
  },
  {
   "cell_type": "code",
   "execution_count": 70,
   "metadata": {
    "colab": {},
    "colab_type": "code",
    "id": "MwAf_D5MrzgR",
    "scrolled": true
   },
   "outputs": [],
   "source": [
    "data_new_sb = pd.concat([data_new, sb.flag], axis= 1) # non pca dataframe\n",
    "data_new_pca_sb = pd.concat([pd.DataFrame(data_new_pca), sb.flag], axis= 1) # pca dataframe "
   ]
  },
  {
   "cell_type": "code",
   "execution_count": 71,
   "metadata": {},
   "outputs": [],
   "source": [
    "# the xgboost model generates error: 'ValueError: feature_names may not contain [, ] or <'\n",
    "# to remove it, we'll rename the columns\n",
    "\n",
    "regex = re.compile(r\"\\[|\\]|<\", re.IGNORECASE)\n",
    "data_new_sb.columns = [regex.sub(\"_\", col) if any(x in str(col) for x in set(('[', ']', '<'))) else col for col in data_new_sb.columns.values]\n",
    "data_new_pca_sb.columns = [regex.sub(\"_\", col) if any(x in str(col) for x in set(('[', ']', '<'))) else col for col in data_new_pca_sb.columns.values]"
   ]
  },
  {
   "cell_type": "code",
   "execution_count": 72,
   "metadata": {
    "colab": {},
    "colab_type": "code",
    "id": "cPCploaRrzgT"
   },
   "outputs": [],
   "source": [
    "X = data_new_sb.drop('flag', axis = 1)\n",
    "y = data_new_sb.flag\n",
    "\n",
    "X_pca = data_new_pca_sb.drop('flag', axis = 1)\n",
    "y_pca = data_new_pca_sb.flag"
   ]
  },
  {
   "cell_type": "code",
   "execution_count": 73,
   "metadata": {
    "colab": {},
    "colab_type": "code",
    "id": "xgaBJcr0rzgV"
   },
   "outputs": [],
   "source": [
    "X_train, X_test, y_train, y_test = train_test_split(X, y, test_size = 0.2, random_state = 1)\n",
    "X_train_pca, X_test_pca, y_train_pca, y_test_pca = train_test_split(X_pca, y_pca, test_size = 0.2, random_state = 1)"
   ]
  },
  {
   "cell_type": "code",
   "execution_count": 74,
   "metadata": {
    "colab": {},
    "colab_type": "code",
    "id": "Y2PRMg7drzgX"
   },
   "outputs": [],
   "source": [
    "# using model_fit for the regular dataset with all columns of data"
   ]
  },
  {
   "cell_type": "code",
   "execution_count": 75,
   "metadata": {},
   "outputs": [],
   "source": [
    "def model_clf(x): # models for non pca dataframe\n",
    "    model = x\n",
    "    model.fit(X_train, y_train)\n",
    "    y_pred = model.predict(X_test)\n",
    "    \n",
    "    model_clf.cm = confusion_matrix(y_test, y_pred)\n",
    "    model_clf.modl = str(x).split(\"(\")[0]\n",
    "    model_clf.accuracy = accuracy_score(y_test, y_pred)\n",
    "    \n",
    "def model_clf_pca(x):  # models for pca dataframe\n",
    "    model = x\n",
    "    model.fit(X_train, y_train)\n",
    "    y_pred = model.predict(X_test)\n",
    "    \n",
    "    model_clf_pca.cm = confusion_matrix(y_test, y_pred)\n",
    "    model_clf_pca.modl = str(x).split(\"(\")[0]\n",
    "    model_clf_pca.accuracy = accuracy_score(y_test, y_pred)"
   ]
  },
  {
   "cell_type": "code",
   "execution_count": 76,
   "metadata": {},
   "outputs": [],
   "source": [
    "models_list = [LogisticRegression(random_state = 1234),\n",
    "             \n",
    "               KNeighborsClassifier(n_neighbors = 3, metric = 'minkowski', p = 2),\n",
    "             \n",
    "               SVC(kernel = 'rbf', random_state = 1234),\n",
    "             \n",
    "               GaussianNB(),\n",
    "             \n",
    "               DecisionTreeClassifier(criterion = 'entropy', random_state = 1234),\n",
    "             \n",
    "               RandomForestClassifier(criterion = 'entropy', random_state = 1234),\n",
    "             \n",
    "               XGBClassifier(objective = 'binary:logistic', seed = 1234, silent = True),\n",
    "             \n",
    "               GradientBoostingClassifier(random_state = 1234)]"
   ]
  },
  {
   "cell_type": "code",
   "execution_count": 77,
   "metadata": {
    "colab": {},
    "colab_type": "code",
    "id": "kj4mm3gArzgY"
   },
   "outputs": [
    {
     "name": "stdout",
     "output_type": "stream",
     "text": [
      "30.083779399999997 seconds\n",
      "non pca model accuracies\n"
     ]
    },
    {
     "data": {
      "text/html": [
       "<div>\n",
       "<style scoped>\n",
       "    .dataframe tbody tr th:only-of-type {\n",
       "        vertical-align: middle;\n",
       "    }\n",
       "\n",
       "    .dataframe tbody tr th {\n",
       "        vertical-align: top;\n",
       "    }\n",
       "\n",
       "    .dataframe thead th {\n",
       "        text-align: right;\n",
       "    }\n",
       "</style>\n",
       "<table border=\"1\" class=\"dataframe\">\n",
       "  <thead>\n",
       "    <tr style=\"text-align: right;\">\n",
       "      <th></th>\n",
       "      <th>Accuracy</th>\n",
       "      <th>Confusion Matrix</th>\n",
       "    </tr>\n",
       "    <tr>\n",
       "      <th>Model Name</th>\n",
       "      <th></th>\n",
       "      <th></th>\n",
       "    </tr>\n",
       "  </thead>\n",
       "  <tbody>\n",
       "    <tr>\n",
       "      <th>LogisticRegression</th>\n",
       "      <td>1.0</td>\n",
       "      <td>[[34098, 0], [0, 752]]</td>\n",
       "    </tr>\n",
       "    <tr>\n",
       "      <th>KNeighborsClassifier</th>\n",
       "      <td>1.0</td>\n",
       "      <td>[[34098, 0], [0, 752]]</td>\n",
       "    </tr>\n",
       "    <tr>\n",
       "      <th>SVC</th>\n",
       "      <td>1.0</td>\n",
       "      <td>[[34098, 0], [0, 752]]</td>\n",
       "    </tr>\n",
       "    <tr>\n",
       "      <th>GaussianNB</th>\n",
       "      <td>1.0</td>\n",
       "      <td>[[34098, 0], [0, 752]]</td>\n",
       "    </tr>\n",
       "    <tr>\n",
       "      <th>DecisionTreeClassifier</th>\n",
       "      <td>1.0</td>\n",
       "      <td>[[34098, 0], [0, 752]]</td>\n",
       "    </tr>\n",
       "    <tr>\n",
       "      <th>RandomForestClassifier</th>\n",
       "      <td>1.0</td>\n",
       "      <td>[[34098, 0], [0, 752]]</td>\n",
       "    </tr>\n",
       "    <tr>\n",
       "      <th>XGBClassifier</th>\n",
       "      <td>1.0</td>\n",
       "      <td>[[34098, 0], [0, 752]]</td>\n",
       "    </tr>\n",
       "    <tr>\n",
       "      <th>GradientBoostingClassifier</th>\n",
       "      <td>1.0</td>\n",
       "      <td>[[34098, 0], [0, 752]]</td>\n",
       "    </tr>\n",
       "  </tbody>\n",
       "</table>\n",
       "</div>"
      ],
      "text/plain": [
       "                            Accuracy        Confusion Matrix\n",
       "Model Name                                                  \n",
       "LogisticRegression               1.0  [[34098, 0], [0, 752]]\n",
       "KNeighborsClassifier             1.0  [[34098, 0], [0, 752]]\n",
       "SVC                              1.0  [[34098, 0], [0, 752]]\n",
       "GaussianNB                       1.0  [[34098, 0], [0, 752]]\n",
       "DecisionTreeClassifier           1.0  [[34098, 0], [0, 752]]\n",
       "RandomForestClassifier           1.0  [[34098, 0], [0, 752]]\n",
       "XGBClassifier                    1.0  [[34098, 0], [0, 752]]\n",
       "GradientBoostingClassifier       1.0  [[34098, 0], [0, 752]]"
      ]
     },
     "execution_count": 77,
     "metadata": {},
     "output_type": "execute_result"
    }
   ],
   "source": [
    "start_time = time.clock()\n",
    "\n",
    "name = []\n",
    "accuracy = []\n",
    "conf = []\n",
    "for mdl in models_list:\n",
    "    model_clf(mdl)\n",
    "    name.append(model_clf.modl)\n",
    "    accuracy.append(model_clf.accuracy)\n",
    "    conf.append(model_clf.cm)\n",
    "    \n",
    "print(time.clock() - start_time, \"seconds\")\n",
    "\n",
    "print(\"non pca model accuracies\")\n",
    "\n",
    "df_ac = pd.DataFrame({'Model Name': name, \n",
    "              'Accuracy' : accuracy, \n",
    "              'Confusion Matrix' : conf}).set_index('Model Name')\n",
    "\n",
    "df_ac"
   ]
  },
  {
   "cell_type": "code",
   "execution_count": 78,
   "metadata": {},
   "outputs": [
    {
     "name": "stdout",
     "output_type": "stream",
     "text": [
      "29.535732199999998 seconds\n",
      "pca model accuracies\n"
     ]
    },
    {
     "data": {
      "text/html": [
       "<div>\n",
       "<style scoped>\n",
       "    .dataframe tbody tr th:only-of-type {\n",
       "        vertical-align: middle;\n",
       "    }\n",
       "\n",
       "    .dataframe tbody tr th {\n",
       "        vertical-align: top;\n",
       "    }\n",
       "\n",
       "    .dataframe thead th {\n",
       "        text-align: right;\n",
       "    }\n",
       "</style>\n",
       "<table border=\"1\" class=\"dataframe\">\n",
       "  <thead>\n",
       "    <tr style=\"text-align: right;\">\n",
       "      <th></th>\n",
       "      <th>Accuracy</th>\n",
       "      <th>Confusion Matrix</th>\n",
       "    </tr>\n",
       "    <tr>\n",
       "      <th>Model Name</th>\n",
       "      <th></th>\n",
       "      <th></th>\n",
       "    </tr>\n",
       "  </thead>\n",
       "  <tbody>\n",
       "    <tr>\n",
       "      <th>LogisticRegression</th>\n",
       "      <td>1.0</td>\n",
       "      <td>[[34098, 0], [0, 752]]</td>\n",
       "    </tr>\n",
       "    <tr>\n",
       "      <th>KNeighborsClassifier</th>\n",
       "      <td>1.0</td>\n",
       "      <td>[[34098, 0], [0, 752]]</td>\n",
       "    </tr>\n",
       "    <tr>\n",
       "      <th>SVC</th>\n",
       "      <td>1.0</td>\n",
       "      <td>[[34098, 0], [0, 752]]</td>\n",
       "    </tr>\n",
       "    <tr>\n",
       "      <th>GaussianNB</th>\n",
       "      <td>1.0</td>\n",
       "      <td>[[34098, 0], [0, 752]]</td>\n",
       "    </tr>\n",
       "    <tr>\n",
       "      <th>DecisionTreeClassifier</th>\n",
       "      <td>1.0</td>\n",
       "      <td>[[34098, 0], [0, 752]]</td>\n",
       "    </tr>\n",
       "    <tr>\n",
       "      <th>RandomForestClassifier</th>\n",
       "      <td>1.0</td>\n",
       "      <td>[[34098, 0], [0, 752]]</td>\n",
       "    </tr>\n",
       "    <tr>\n",
       "      <th>XGBClassifier</th>\n",
       "      <td>1.0</td>\n",
       "      <td>[[34098, 0], [0, 752]]</td>\n",
       "    </tr>\n",
       "    <tr>\n",
       "      <th>GradientBoostingClassifier</th>\n",
       "      <td>1.0</td>\n",
       "      <td>[[34098, 0], [0, 752]]</td>\n",
       "    </tr>\n",
       "  </tbody>\n",
       "</table>\n",
       "</div>"
      ],
      "text/plain": [
       "                            Accuracy        Confusion Matrix\n",
       "Model Name                                                  \n",
       "LogisticRegression               1.0  [[34098, 0], [0, 752]]\n",
       "KNeighborsClassifier             1.0  [[34098, 0], [0, 752]]\n",
       "SVC                              1.0  [[34098, 0], [0, 752]]\n",
       "GaussianNB                       1.0  [[34098, 0], [0, 752]]\n",
       "DecisionTreeClassifier           1.0  [[34098, 0], [0, 752]]\n",
       "RandomForestClassifier           1.0  [[34098, 0], [0, 752]]\n",
       "XGBClassifier                    1.0  [[34098, 0], [0, 752]]\n",
       "GradientBoostingClassifier       1.0  [[34098, 0], [0, 752]]"
      ]
     },
     "execution_count": 78,
     "metadata": {},
     "output_type": "execute_result"
    }
   ],
   "source": [
    "start_time = time.clock()\n",
    "\n",
    "name = []\n",
    "accuracy = []\n",
    "conf = []\n",
    "for mdl in models_list:\n",
    "    model_clf_pca(mdl)\n",
    "    name.append(model_clf_pca.modl)\n",
    "    accuracy.append(model_clf_pca.accuracy)\n",
    "    conf.append(model_clf_pca.cm)\n",
    "    \n",
    "print(time.clock() - start_time, \"seconds\")\n",
    "print(\"pca model accuracies\")\n",
    "\n",
    "df_ac = pd.DataFrame({'Model Name': name, \n",
    "              'Accuracy' : accuracy, \n",
    "              'Confusion Matrix' : conf}).set_index('Model Name')\n",
    "\n",
    "df_ac"
   ]
  },
  {
   "cell_type": "code",
   "execution_count": 79,
   "metadata": {},
   "outputs": [],
   "source": [
    "# let's look at the important columns/features in the model affecting our results with XgBoost model"
   ]
  },
  {
   "cell_type": "code",
   "execution_count": 80,
   "metadata": {
    "colab": {},
    "colab_type": "code",
    "id": "1lD3_Jihrzgh",
    "outputId": "b5082dd3-eae4-44bc-8e7b-803ec068ca99"
   },
   "outputs": [
    {
     "data": {
      "image/png": "[encoded data removed]",
      "text/plain": [
       "<matplotlib.figure.Figure at 0x1cf89c6c128>"
      ]
     },
     "metadata": {},
     "output_type": "display_data"
    }
   ],
   "source": [
    "m = XGBClassifier(objective = 'binary:logistic', seed = 1234, silent = True).fit(X_train, y_train)\n",
    "x = pd.DataFrame(m.feature_importances_, X_train.columns)\n",
    "pd.DataFrame(x[0].sort_values(ascending = False)[0:20]).iloc[:,:1].plot.barh(figsize=(10,5))\n",
    "plt.show()"
   ]
  },
  {
   "cell_type": "code",
   "execution_count": 81,
   "metadata": {
    "colab_type": "raw",
    "id": "Wr9iariSrzgw"
   },
   "outputs": [],
   "source": [
    "# The accuracy scores produced by the models are near perfect. We will test to see if the imbalance in the prediction feature \n",
    "# is affecting the results by implementing the ROC curve and finding AUC. The imbalance is due to our prediction class being\n",
    "# very small as our suspicious poplulation is mimicking the suspicious population in reality."
   ]
  },
  {
   "cell_type": "code",
   "execution_count": 82,
   "metadata": {
    "colab": {},
    "colab_type": "code",
    "id": "ggVKenKArzgx",
    "outputId": "a2f88441-0054-43c2-ac75-c1d5b449b334"
   },
   "outputs": [],
   "source": [
    "# Implementing the ROC curve on the logistic regression.  \n",
    "prob_lr = LogisticRegression().fit(X_train_pca, y_train_pca).predict_proba(X_test_pca)"
   ]
  },
  {
   "cell_type": "code",
   "execution_count": 83,
   "metadata": {
    "colab": {},
    "colab_type": "code",
    "id": "DhwJ1Kuzrzgx"
   },
   "outputs": [
    {
     "data": {
      "text/plain": [
       "[0.00876712383803909,\n",
       " 0.016557895872995373,\n",
       " 0.04794380160430672,\n",
       " 0.012750656002818347,\n",
       " 0.007116352087316576]"
      ]
     },
     "execution_count": 83,
     "metadata": {},
     "output_type": "execute_result"
    }
   ],
   "source": [
    "prob_lr = [p[1] for p in prob_lr]\n",
    "\n",
    "#Verifying the last five scores in prob_lr\n",
    "prob_lr[:5]"
   ]
  },
  {
   "cell_type": "code",
   "execution_count": 84,
   "metadata": {
    "colab": {},
    "colab_type": "code",
    "id": "TBNqC5bMrzg0",
    "outputId": "821a187e-b730-4988-8bb6-bde65ac59db1"
   },
   "outputs": [
    {
     "name": "stdout",
     "output_type": "stream",
     "text": [
      "AUC score is:  0.7901686378311326\n"
     ]
    }
   ],
   "source": [
    "print(\"AUC score is: \", roc_auc_score(y_test, prob_lr)) # AUC score"
   ]
  },
  {
   "cell_type": "code",
   "execution_count": 85,
   "metadata": {},
   "outputs": [],
   "source": [
    "# The ROC_AUC is giving us less accuracy.  We can assume that the model was overfit and that the \n",
    "# imbalance is impacting the results"
   ]
  },
  {
   "cell_type": "code",
   "execution_count": 86,
   "metadata": {
    "colab": {},
    "colab_type": "code",
    "id": "GcVLNMcmrzhD"
   },
   "outputs": [
    {
     "name": "stdout",
     "output_type": "stream",
     "text": [
      "fpr:  [0.00000000e+00 2.93272333e-05 7.53709895e-03 ... 9.99853364e-01\n",
      " 9.99912018e-01 1.00000000e+00] \n",
      "tpr:  [0. 0. 0. ... 1. 1. 1.] \n",
      "threshold:  [1.08389312 0.08389312 0.0806607  ... 0.0034569  0.00345526 0.0034546 ]\n"
     ]
    }
   ],
   "source": [
    "# plotting the ROC and AUC score\n",
    "fpr, tpr, threshold = roc_curve(y_test, prob_lr)\n",
    "print('fpr: ', fpr, '\\ntpr: ', tpr, '\\nthreshold: ', threshold)"
   ]
  },
  {
   "cell_type": "code",
   "execution_count": 87,
   "metadata": {
    "colab": {},
    "colab_type": "code",
    "id": "y4f5f8xzrzhG",
    "outputId": "3c5fc92c-6070-4e85-c529-e363590e7b73"
   },
   "outputs": [
    {
     "data": {
      "image/png": "[encoded data removed]",
      "text/plain": [
       "<matplotlib.figure.Figure at 0x1cf88f79438>"
      ]
     },
     "metadata": {},
     "output_type": "display_data"
    }
   ],
   "source": [
    "plt.figure()\n",
    "plt.plot(fpr, tpr)\n",
    "plt.plot([0, 1], [0, 1], color = 'navy', linestyle = '--', label = 'ROC curve (area = %0.2f)' % auc(fpr, tpr))\n",
    "plt.xlabel('False Positive Rate')\n",
    "plt.ylabel('True Positive Rate')\n",
    "plt.title('Receiver operating characteristic')\n",
    "plt.legend(loc = \"lower right\")\n",
    "plt.show()"
   ]
  },
  {
   "cell_type": "code",
   "execution_count": 88,
   "metadata": {
    "colab": {},
    "colab_type": "code",
    "id": "SUHvfIpkrzg2",
    "outputId": "8645f26e-3713-4e6b-99fb-2d63b5b2a47e"
   },
   "outputs": [
    {
     "data": {
      "text/plain": [
       "0    170524\n",
       "1      3725\n",
       "Name: flag, dtype: int64"
      ]
     },
     "execution_count": 88,
     "metadata": {},
     "output_type": "execute_result"
    }
   ],
   "source": [
    "data_new_pca_sb.flag.value_counts() # this is the imbalance of our classes"
   ]
  },
  {
   "cell_type": "code",
   "execution_count": 89,
   "metadata": {
    "colab_type": "raw",
    "id": "r26DrhRvrzg3"
   },
   "outputs": [],
   "source": [
    "# We will now try upsampling our prediction feature so we can mitigate the imbalance."
   ]
  },
  {
   "cell_type": "code",
   "execution_count": 90,
   "metadata": {
    "colab": {},
    "colab_type": "code",
    "id": "88V7SBKGrzg5"
   },
   "outputs": [],
   "source": [
    "majority = data_new_sb[data_new_sb.flag == 0]\n",
    "minority = data_new_sb[data_new_sb.flag == 1]\n",
    "\n",
    "majority_pca = data_new_pca_sb[data_new_pca_sb.flag == 0]\n",
    "minority_pca = data_new_pca_sb[data_new_pca_sb.flag == 1]"
   ]
  },
  {
   "cell_type": "code",
   "execution_count": 91,
   "metadata": {
    "colab": {},
    "colab_type": "code",
    "id": "0uIP2qrOrzg8"
   },
   "outputs": [],
   "source": [
    "minority_upsampled = resample(minority, replace = True, n_samples = max(data_new_sb.flag.value_counts()), random_state = 1234)\n",
    "minority_upsampled_pca = resample(minority_pca, replace = True, n_samples = max(data_new_pca_sb.flag.value_counts()), random_state = 1234)"
   ]
  },
  {
   "cell_type": "code",
   "execution_count": 92,
   "metadata": {
    "colab": {},
    "colab_type": "code",
    "id": "GOZYPj11rzg9"
   },
   "outputs": [
    {
     "name": "stdout",
     "output_type": "stream",
     "text": [
      "1    170524\n",
      "0    170524\n",
      "Name: flag, dtype: int64\n",
      "1    170524\n",
      "0    170524\n",
      "Name: flag, dtype: int64\n"
     ]
    }
   ],
   "source": [
    "upsampled = pd.concat([majority, minority_upsampled])\n",
    "upsampled_pca = pd.concat([majority_pca, minority_upsampled_pca])\n",
    "# New data set for upsampled values\n",
    "print(upsampled.flag.value_counts())\n",
    "print(upsampled_pca.flag.value_counts())"
   ]
  },
  {
   "cell_type": "code",
   "execution_count": 93,
   "metadata": {
    "colab": {},
    "colab_type": "code",
    "id": "PZQyZWUCrzg_"
   },
   "outputs": [],
   "source": [
    "X_b = upsampled.drop('flag', axis = 1)\n",
    "y_b = upsampled.flag\n",
    "\n",
    "X_b_pca = upsampled_pca.drop('flag', axis = 1)\n",
    "y_b_pca = upsampled_pca.flag"
   ]
  },
  {
   "cell_type": "code",
   "execution_count": 94,
   "metadata": {
    "colab": {},
    "colab_type": "code",
    "id": "n3Z51KP8rzhA",
    "outputId": "27189902-fc81-4c1d-bfc7-5d9c108f1b29"
   },
   "outputs": [
    {
     "data": {
      "text/plain": [
       "((341048, 52), (341048, 3))"
      ]
     },
     "execution_count": 94,
     "metadata": {},
     "output_type": "execute_result"
    }
   ],
   "source": [
    "upsampled.shape, upsampled_pca.shape"
   ]
  },
  {
   "cell_type": "code",
   "execution_count": 95,
   "metadata": {
    "colab": {},
    "colab_type": "code",
    "id": "46K6TEA4rzg_"
   },
   "outputs": [],
   "source": [
    "X_train_b, X_test_b, y_train_b, y_test_b = train_test_split(X_b, y_b, test_size = 0.2, random_state = 1234)\n",
    "X_train_b_pca, X_test_b_pca, y_train_b_pca, y_test_b_pca = train_test_split(X_b_pca, y_b_pca, test_size = 0.2, random_state = 1234)"
   ]
  },
  {
   "cell_type": "code",
   "execution_count": 96,
   "metadata": {},
   "outputs": [],
   "source": [
    "def model_clf(x): # models for non pca dataframe\n",
    "    model = x\n",
    "    model.fit(X_train_b, y_train_b)\n",
    "    y_pred = model.predict(X_test_b)\n",
    "    \n",
    "    model_clf.cm = confusion_matrix(y_test_b, y_pred)\n",
    "    model_clf.modl = str(x).split(\"(\")[0]\n",
    "    model_clf.accuracy = accuracy_score(y_test_b, y_pred)\n",
    "    \n",
    "def model_clf_pca(x):  # models for pca dataframe\n",
    "    model = x\n",
    "    model.fit(X_train_b_pca, y_train_b_pca)\n",
    "    y_pred = model.predict(X_test_b_pca)\n",
    "    \n",
    "    model_clf_pca.cm = confusion_matrix(y_test_b_pca, y_pred)\n",
    "    model_clf_pca.modl = str(x).split(\"(\")[0]\n",
    "    model_clf_pca.accuracy = accuracy_score(y_test_b_pca, y_pred)"
   ]
  },
  {
   "cell_type": "code",
   "execution_count": 97,
   "metadata": {},
   "outputs": [
    {
     "name": "stdout",
     "output_type": "stream",
     "text": [
      "83.33934050000002 seconds\n",
      "non pca model accuracies\n"
     ]
    },
    {
     "data": {
      "text/html": [
       "<div>\n",
       "<style scoped>\n",
       "    .dataframe tbody tr th:only-of-type {\n",
       "        vertical-align: middle;\n",
       "    }\n",
       "\n",
       "    .dataframe tbody tr th {\n",
       "        vertical-align: top;\n",
       "    }\n",
       "\n",
       "    .dataframe thead th {\n",
       "        text-align: right;\n",
       "    }\n",
       "</style>\n",
       "<table border=\"1\" class=\"dataframe\">\n",
       "  <thead>\n",
       "    <tr style=\"text-align: right;\">\n",
       "      <th></th>\n",
       "      <th>Accuracy</th>\n",
       "      <th>Confusion Matrix</th>\n",
       "    </tr>\n",
       "    <tr>\n",
       "      <th>Model Name</th>\n",
       "      <th></th>\n",
       "      <th></th>\n",
       "    </tr>\n",
       "  </thead>\n",
       "  <tbody>\n",
       "    <tr>\n",
       "      <th>LogisticRegression</th>\n",
       "      <td>1.0</td>\n",
       "      <td>[[33979, 0], [0, 34231]]</td>\n",
       "    </tr>\n",
       "    <tr>\n",
       "      <th>KNeighborsClassifier</th>\n",
       "      <td>1.0</td>\n",
       "      <td>[[33979, 0], [0, 34231]]</td>\n",
       "    </tr>\n",
       "    <tr>\n",
       "      <th>SVC</th>\n",
       "      <td>1.0</td>\n",
       "      <td>[[33979, 0], [0, 34231]]</td>\n",
       "    </tr>\n",
       "    <tr>\n",
       "      <th>GaussianNB</th>\n",
       "      <td>1.0</td>\n",
       "      <td>[[33979, 0], [0, 34231]]</td>\n",
       "    </tr>\n",
       "    <tr>\n",
       "      <th>DecisionTreeClassifier</th>\n",
       "      <td>1.0</td>\n",
       "      <td>[[33979, 0], [0, 34231]]</td>\n",
       "    </tr>\n",
       "    <tr>\n",
       "      <th>RandomForestClassifier</th>\n",
       "      <td>1.0</td>\n",
       "      <td>[[33979, 0], [0, 34231]]</td>\n",
       "    </tr>\n",
       "    <tr>\n",
       "      <th>XGBClassifier</th>\n",
       "      <td>1.0</td>\n",
       "      <td>[[33979, 0], [0, 34231]]</td>\n",
       "    </tr>\n",
       "    <tr>\n",
       "      <th>GradientBoostingClassifier</th>\n",
       "      <td>1.0</td>\n",
       "      <td>[[33979, 0], [0, 34231]]</td>\n",
       "    </tr>\n",
       "  </tbody>\n",
       "</table>\n",
       "</div>"
      ],
      "text/plain": [
       "                            Accuracy          Confusion Matrix\n",
       "Model Name                                                    \n",
       "LogisticRegression               1.0  [[33979, 0], [0, 34231]]\n",
       "KNeighborsClassifier             1.0  [[33979, 0], [0, 34231]]\n",
       "SVC                              1.0  [[33979, 0], [0, 34231]]\n",
       "GaussianNB                       1.0  [[33979, 0], [0, 34231]]\n",
       "DecisionTreeClassifier           1.0  [[33979, 0], [0, 34231]]\n",
       "RandomForestClassifier           1.0  [[33979, 0], [0, 34231]]\n",
       "XGBClassifier                    1.0  [[33979, 0], [0, 34231]]\n",
       "GradientBoostingClassifier       1.0  [[33979, 0], [0, 34231]]"
      ]
     },
     "execution_count": 97,
     "metadata": {},
     "output_type": "execute_result"
    }
   ],
   "source": [
    "start_time = time.clock()\n",
    "\n",
    "name = []\n",
    "accuracy = []\n",
    "conf = []\n",
    "for mdl in models_list:\n",
    "    model_clf(mdl)\n",
    "    name.append(model_clf.modl)\n",
    "    accuracy.append(model_clf.accuracy)\n",
    "    conf.append(model_clf.cm)\n",
    "    \n",
    "print(time.clock() - start_time, \"seconds\")\n",
    "\n",
    "print(\"non pca model accuracies\")\n",
    "\n",
    "df_ac = pd.DataFrame({'Model Name': name, \n",
    "              'Accuracy' : accuracy, \n",
    "              'Confusion Matrix' : conf}).set_index('Model Name')\n",
    "\n",
    "df_ac"
   ]
  },
  {
   "cell_type": "code",
   "execution_count": 98,
   "metadata": {},
   "outputs": [
    {
     "name": "stdout",
     "output_type": "stream",
     "text": [
      "14.124998000000005 seconds\n",
      "pca model accuracies\n"
     ]
    },
    {
     "data": {
      "text/html": [
       "<div>\n",
       "<style scoped>\n",
       "    .dataframe tbody tr th:only-of-type {\n",
       "        vertical-align: middle;\n",
       "    }\n",
       "\n",
       "    .dataframe tbody tr th {\n",
       "        vertical-align: top;\n",
       "    }\n",
       "\n",
       "    .dataframe thead th {\n",
       "        text-align: right;\n",
       "    }\n",
       "</style>\n",
       "<table border=\"1\" class=\"dataframe\">\n",
       "  <thead>\n",
       "    <tr style=\"text-align: right;\">\n",
       "      <th></th>\n",
       "      <th>Accuracy</th>\n",
       "      <th>Confusion Matrix</th>\n",
       "    </tr>\n",
       "    <tr>\n",
       "      <th>Model Name</th>\n",
       "      <th></th>\n",
       "      <th></th>\n",
       "    </tr>\n",
       "  </thead>\n",
       "  <tbody>\n",
       "    <tr>\n",
       "      <th>LogisticRegression</th>\n",
       "      <td>0.912374</td>\n",
       "      <td>[[28002, 5977], [0, 34231]]</td>\n",
       "    </tr>\n",
       "    <tr>\n",
       "      <th>KNeighborsClassifier</th>\n",
       "      <td>1.000000</td>\n",
       "      <td>[[33979, 0], [0, 34231]]</td>\n",
       "    </tr>\n",
       "    <tr>\n",
       "      <th>SVC</th>\n",
       "      <td>1.000000</td>\n",
       "      <td>[[33979, 0], [0, 34231]]</td>\n",
       "    </tr>\n",
       "    <tr>\n",
       "      <th>GaussianNB</th>\n",
       "      <td>1.000000</td>\n",
       "      <td>[[33979, 0], [0, 34231]]</td>\n",
       "    </tr>\n",
       "    <tr>\n",
       "      <th>DecisionTreeClassifier</th>\n",
       "      <td>1.000000</td>\n",
       "      <td>[[33979, 0], [0, 34231]]</td>\n",
       "    </tr>\n",
       "    <tr>\n",
       "      <th>RandomForestClassifier</th>\n",
       "      <td>1.000000</td>\n",
       "      <td>[[33979, 0], [0, 34231]]</td>\n",
       "    </tr>\n",
       "    <tr>\n",
       "      <th>XGBClassifier</th>\n",
       "      <td>1.000000</td>\n",
       "      <td>[[33979, 0], [0, 34231]]</td>\n",
       "    </tr>\n",
       "    <tr>\n",
       "      <th>GradientBoostingClassifier</th>\n",
       "      <td>1.000000</td>\n",
       "      <td>[[33979, 0], [0, 34231]]</td>\n",
       "    </tr>\n",
       "  </tbody>\n",
       "</table>\n",
       "</div>"
      ],
      "text/plain": [
       "                            Accuracy             Confusion Matrix\n",
       "Model Name                                                       \n",
       "LogisticRegression          0.912374  [[28002, 5977], [0, 34231]]\n",
       "KNeighborsClassifier        1.000000     [[33979, 0], [0, 34231]]\n",
       "SVC                         1.000000     [[33979, 0], [0, 34231]]\n",
       "GaussianNB                  1.000000     [[33979, 0], [0, 34231]]\n",
       "DecisionTreeClassifier      1.000000     [[33979, 0], [0, 34231]]\n",
       "RandomForestClassifier      1.000000     [[33979, 0], [0, 34231]]\n",
       "XGBClassifier               1.000000     [[33979, 0], [0, 34231]]\n",
       "GradientBoostingClassifier  1.000000     [[33979, 0], [0, 34231]]"
      ]
     },
     "execution_count": 98,
     "metadata": {},
     "output_type": "execute_result"
    }
   ],
   "source": [
    "start_time = time.clock()\n",
    "\n",
    "name = []\n",
    "accuracy = []\n",
    "conf = []\n",
    "for mdl in models_list:\n",
    "    model_clf_pca(mdl)\n",
    "    name.append(model_clf_pca.modl)\n",
    "    accuracy.append(model_clf_pca.accuracy)\n",
    "    conf.append(model_clf_pca.cm)\n",
    "    \n",
    "print(time.clock() - start_time, \"seconds\")\n",
    "print(\"pca model accuracies\")\n",
    "\n",
    "df_ac = pd.DataFrame({'Model Name': name, \n",
    "              'Accuracy' : accuracy, \n",
    "              'Confusion Matrix' : conf}).set_index('Model Name')\n",
    "\n",
    "df_ac"
   ]
  },
  {
   "cell_type": "code",
   "execution_count": 99,
   "metadata": {},
   "outputs": [
    {
     "data": {
      "image/png": "[encoded data removed]",
      "text/plain": [
       "<matplotlib.figure.Figure at 0x1cf88f5ff60>"
      ]
     },
     "metadata": {},
     "output_type": "display_data"
    }
   ],
   "source": [
    "m = XGBClassifier(objective = 'binary:logistic', seed = 1234, silent = True).fit(X_train_b, y_train_b)\n",
    "x = pd.DataFrame(m.feature_importances_, X_train_b.columns)\n",
    "pd.DataFrame(x[0].sort_values(ascending = False)[0:20]).iloc[:,:1].plot.barh(figsize=(10,5))\n",
    "plt.show()"
   ]
  },
  {
   "cell_type": "code",
   "execution_count": 100,
   "metadata": {},
   "outputs": [],
   "source": [
    "# still we are getting full accuracy with our models, it seems it should work better once we have the real flagged transactions"
   ]
  }
 ],
 "metadata": {
  "colab": {
   "name": "Copy of AML_Transaction.ipynb",
   "provenance": [],
   "version": "0.3.2"
  },
  "kernelspec": {
   "display_name": "Python 3",
   "language": "python",
   "name": "python3"
  },
  "language_info": {
   "codemirror_mode": {
    "name": "ipython",
    "version": 3
   },
   "file_extension": ".py",
   "mimetype": "text/x-python",
   "name": "python",
   "nbconvert_exporter": "python",
   "pygments_lexer": "ipython3",
   "version": "3.6.1"
  }
 },
 "nbformat": 4,
 "nbformat_minor": 1
}
